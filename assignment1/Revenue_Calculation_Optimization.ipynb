{
 "cells": [
  {
   "cell_type": "code",
   "execution_count": 1,
   "metadata": {},
   "outputs": [],
   "source": [
    "#Importing Libraries\n",
    "import pandas as pd\n",
    "import numpy as np\n",
    "from matplotlib import pyplot as plt\n",
    "import gurobipy as gp\n",
    "from gurobipy import GRB"
   ]
  },
  {
   "cell_type": "code",
   "execution_count": 9,
   "metadata": {},
   "outputs": [
    {
     "name": "stdout",
     "output_type": "stream",
     "text": [
      "[3520.38803673 2820.53997898 3302.27914619 ... 3928.63138103 3481.61078453\n",
      " 3848.66349792]\n"
     ]
    }
   ],
   "source": [
    "prices_df = pd.read_csv('prices_merged_df_output.csv', delimiter=',')\n",
    "\n",
    "balUPVec = np.array(prices_df['BalancingPriceUpEUR'].values)\n",
    "balDOWNVec = np.array(prices_df['BalancingPriceDownEUR'].values)\n",
    "DAVec = np.array(prices_df['DA_PriceEUR'].values)\n",
    "\n",
    "features_df = pd.read_csv('merged_df_output.csv', delimiter=',')\n",
    "\n",
    "\n",
    "actualWindproduction = np.array(features_df[' Total Wind Production Active Power'].values)\n",
    "print(actualWindproduction)\n",
    "\n",
    "power_pred=[3560.02,2800.32,4500.65,3200.90,2100.76]\n"
   ]
  },
  {
   "cell_type": "code",
   "execution_count": 7,
   "metadata": {},
   "outputs": [],
   "source": [
    "#Setting Parameters\n",
    "hourblock=[hour for hour in range(1,5)]"
   ]
  },
  {
   "cell_type": "code",
   "execution_count": 13,
   "metadata": {},
   "outputs": [
    {
     "ename": "TypeError",
     "evalue": "'list' object cannot be interpreted as an integer",
     "output_type": "error",
     "traceback": [
      "\u001b[1;31m---------------------------------------------------------------------------\u001b[0m",
      "\u001b[1;31mTypeError\u001b[0m                                 Traceback (most recent call last)",
      "Cell \u001b[1;32mIn[13], line 10\u001b[0m\n\u001b[0;32m      3\u001b[0m power_pred\u001b[38;5;241m=\u001b[39mmodel\u001b[38;5;241m.\u001b[39maddVars(\n\u001b[0;32m      4\u001b[0m     hourblock, vtype\u001b[38;5;241m=\u001b[39mGRB\u001b[38;5;241m.\u001b[39mINTEGER, name\u001b[38;5;241m=\u001b[39m\u001b[38;5;124m\"\u001b[39m\u001b[38;5;124mpower_pred\u001b[39m\u001b[38;5;124m\"\u001b[39m\n\u001b[0;32m      5\u001b[0m )\n\u001b[0;32m      6\u001b[0m \u001b[38;5;66;03m#2. Constraints\u001b[39;00m\n\u001b[0;32m      7\u001b[0m \u001b[38;5;66;03m# C= The total capacity of the wind farm\u001b[39;00m\n\u001b[0;32m      8\u001b[0m model\u001b[38;5;241m.\u001b[39maddConstrs(\n\u001b[0;32m      9\u001b[0m     (power_pred[t]\u001b[38;5;241m<\u001b[39m\u001b[38;5;241m=\u001b[39m\u001b[38;5;241m30000\u001b[39m)\n\u001b[1;32m---> 10\u001b[0m     \u001b[38;5;28;01mfor\u001b[39;00m t \u001b[38;5;129;01min\u001b[39;00m \u001b[38;5;28;43mrange\u001b[39;49m\u001b[43m(\u001b[49m\u001b[43mhourblock\u001b[49m\u001b[43m)\u001b[49m\n\u001b[0;32m     11\u001b[0m )\n\u001b[0;32m     12\u001b[0m \u001b[38;5;66;03m#3. Objective Function\u001b[39;00m\n\u001b[0;32m     13\u001b[0m model\u001b[38;5;241m.\u001b[39msetObjective(\n\u001b[0;32m     14\u001b[0m     \u001b[38;5;66;03m# The revenue obtained from the day-ahead market\u001b[39;00m\n\u001b[0;32m     15\u001b[0m     gp\u001b[38;5;241m.\u001b[39mquicksum(\n\u001b[1;32m   (...)\u001b[0m\n\u001b[0;32m     27\u001b[0m     )\n\u001b[0;32m     28\u001b[0m ,GRB\u001b[38;5;241m.\u001b[39mMAXIMIZE)\n",
      "\u001b[1;31mTypeError\u001b[0m: 'list' object cannot be interpreted as an integer"
     ]
    }
   ],
   "source": [
    "model=gp.Model()\n",
    "#1. Decision Variable\n",
    "power_pred=model.addVars(\n",
    "    hourblock, vtype=GRB.INTEGER, name=\"power_pred\"\n",
    ")\n",
    "#2. Constraints\n",
    "# C= The total capacity of the wind farm\n",
    "model.addConstrs(\n",
    "    (power_pred[t]<=30000)\n",
    "    for t in range(hourblock)\n",
    ")\n",
    "#3. Objective Function\n",
    "model.setObjective(\n",
    "    # The revenue obtained from the day-ahead market\n",
    "    gp.quicksum(\n",
    "        DAVec[t]*power_pred[t]\n",
    "        for t in range(hourblock)\n",
    "    )+\n",
    "    #The revenue obtained from the balancing market\n",
    "    gp.quicksum(\n",
    "        balDOWNVec[t]*max(0,actualWindproduction[t]-power_pred[t]) #max() function will eliminate the negative value in the function\n",
    "        for t in range(hourblock)\n",
    "    )-\n",
    "    gp.quicksum(\n",
    "        balUPVec[t]*max(0,power_pred[t]-actualWindproduction[t])\n",
    "        for t in range(hourblock)\n",
    "    )\n",
    ",GRB.MAXIMIZE)\n",
    "model.optimize()"
   ]
  }
 ],
 "metadata": {
  "kernelspec": {
   "display_name": "Python 3",
   "language": "python",
   "name": "python3"
  },
  "language_info": {
   "codemirror_mode": {
    "name": "ipython",
    "version": 3
   },
   "file_extension": ".py",
   "mimetype": "text/x-python",
   "name": "python",
   "nbconvert_exporter": "python",
   "pygments_lexer": "ipython3",
   "version": "3.12.5"
  }
 },
 "nbformat": 4,
 "nbformat_minor": 2
}
