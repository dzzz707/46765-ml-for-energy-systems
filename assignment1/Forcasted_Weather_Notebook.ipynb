{
  "cells": [
    {
      "cell_type": "code",
      "execution_count": 1,
      "metadata": {
        "ExecuteTime": {
          "end_time": "2024-10-07T15:03:56.489232Z",
          "start_time": "2024-10-07T15:03:56.484579Z"
        },
        "id": "QHagJyGTLdFa"
      },
      "outputs": [],
      "source": [
        "import pandas as pd\n",
        "import numpy as np\n",
        "from sklearn.preprocessing import StandardScaler, MinMaxScaler\n",
        "import matplotlib.pyplot as plt\n",
        "from sklearn.model_selection import TimeSeriesSplit\n",
        "from sklearn.metrics import mean_squared_error, mean_absolute_error, r2_score\n",
        "from sklearn.model_selection import train_test_split"
      ]
    },
    {
      "cell_type": "code",
      "execution_count": 2,
      "metadata": {
        "ExecuteTime": {
          "end_time": "2024-10-07T14:20:24.078251Z",
          "start_time": "2024-10-07T14:20:24.046208Z"
        },
        "id": "ZwntNe7KLdFb",
        "colab": {
          "base_uri": "https://localhost:8080/"
        },
        "outputId": "e34f50db-0c47-4d98-8278-7154315fabf3"
      },
      "outputs": [
        {
          "output_type": "stream",
          "name": "stdout",
          "text": [
            "(8760, 12)\n"
          ]
        }
      ],
      "source": [
        "file_path = 'Feature data.csv'\n",
        "data = pd.read_csv(file_path)\n",
        "data2=pd.read_csv(\"Forcasted Weather data new.csv\")\n",
        "print(data2.shape)"
      ]
    },
    {
      "cell_type": "code",
      "source": [
        "data2=data2.drop('Accumulated percipitation', axis=1)\n",
        "data2=data2.drop('Mean humidity', axis=1)\n",
        "data2=data2.drop('Wind Speed Y Direction', axis=1)\n",
        "data2=data2.drop('Wind Speed X Direction', axis=1)\n",
        "data2=data2.drop('Mean temperature', axis=1)\n",
        "data2=data2.drop('Minimum temperature', axis=1)\n",
        "data2=data2.drop('Solar Shortwave Flux', axis=1)\n",
        "data2=data2.drop('Unnamed: 0',axis=1)\n",
        "data2.head()"
      ],
      "metadata": {
        "colab": {
          "base_uri": "https://localhost:8080/",
          "height": 206
        },
        "id": "6pw3-CITw552",
        "outputId": "cc55c667-7ee7-4adc-87af-44fe1ec337c7"
      },
      "execution_count": 3,
      "outputs": [
        {
          "output_type": "execute_result",
          "data": {
            "text/plain": [
              "                    ts  Maximum temperature  Mean wind direction  \\\n",
              "0  2022-01-01 00:00:00            279.84314            235.57857   \n",
              "1  2022-01-01 01:00:00            279.84314            235.57857   \n",
              "2  2022-01-01 02:00:00            279.84314            235.57857   \n",
              "3  2022-01-01 03:00:00            279.84314            235.57857   \n",
              "4  2022-01-01 04:00:00            279.84314            235.57857   \n",
              "\n",
              "   Mean wind speed  \n",
              "0         5.813893  \n",
              "1         5.813893  \n",
              "2         5.813893  \n",
              "3         5.813893  \n",
              "4         5.813893  "
            ],
            "text/html": [
              "\n",
              "  <div id=\"df-4a36e883-b689-445c-901a-e2026c834a72\" class=\"colab-df-container\">\n",
              "    <div>\n",
              "<style scoped>\n",
              "    .dataframe tbody tr th:only-of-type {\n",
              "        vertical-align: middle;\n",
              "    }\n",
              "\n",
              "    .dataframe tbody tr th {\n",
              "        vertical-align: top;\n",
              "    }\n",
              "\n",
              "    .dataframe thead th {\n",
              "        text-align: right;\n",
              "    }\n",
              "</style>\n",
              "<table border=\"1\" class=\"dataframe\">\n",
              "  <thead>\n",
              "    <tr style=\"text-align: right;\">\n",
              "      <th></th>\n",
              "      <th>ts</th>\n",
              "      <th>Maximum temperature</th>\n",
              "      <th>Mean wind direction</th>\n",
              "      <th>Mean wind speed</th>\n",
              "    </tr>\n",
              "  </thead>\n",
              "  <tbody>\n",
              "    <tr>\n",
              "      <th>0</th>\n",
              "      <td>2022-01-01 00:00:00</td>\n",
              "      <td>279.84314</td>\n",
              "      <td>235.57857</td>\n",
              "      <td>5.813893</td>\n",
              "    </tr>\n",
              "    <tr>\n",
              "      <th>1</th>\n",
              "      <td>2022-01-01 01:00:00</td>\n",
              "      <td>279.84314</td>\n",
              "      <td>235.57857</td>\n",
              "      <td>5.813893</td>\n",
              "    </tr>\n",
              "    <tr>\n",
              "      <th>2</th>\n",
              "      <td>2022-01-01 02:00:00</td>\n",
              "      <td>279.84314</td>\n",
              "      <td>235.57857</td>\n",
              "      <td>5.813893</td>\n",
              "    </tr>\n",
              "    <tr>\n",
              "      <th>3</th>\n",
              "      <td>2022-01-01 03:00:00</td>\n",
              "      <td>279.84314</td>\n",
              "      <td>235.57857</td>\n",
              "      <td>5.813893</td>\n",
              "    </tr>\n",
              "    <tr>\n",
              "      <th>4</th>\n",
              "      <td>2022-01-01 04:00:00</td>\n",
              "      <td>279.84314</td>\n",
              "      <td>235.57857</td>\n",
              "      <td>5.813893</td>\n",
              "    </tr>\n",
              "  </tbody>\n",
              "</table>\n",
              "</div>\n",
              "    <div class=\"colab-df-buttons\">\n",
              "\n",
              "  <div class=\"colab-df-container\">\n",
              "    <button class=\"colab-df-convert\" onclick=\"convertToInteractive('df-4a36e883-b689-445c-901a-e2026c834a72')\"\n",
              "            title=\"Convert this dataframe to an interactive table.\"\n",
              "            style=\"display:none;\">\n",
              "\n",
              "  <svg xmlns=\"http://www.w3.org/2000/svg\" height=\"24px\" viewBox=\"0 -960 960 960\">\n",
              "    <path d=\"M120-120v-720h720v720H120Zm60-500h600v-160H180v160Zm220 220h160v-160H400v160Zm0 220h160v-160H400v160ZM180-400h160v-160H180v160Zm440 0h160v-160H620v160ZM180-180h160v-160H180v160Zm440 0h160v-160H620v160Z\"/>\n",
              "  </svg>\n",
              "    </button>\n",
              "\n",
              "  <style>\n",
              "    .colab-df-container {\n",
              "      display:flex;\n",
              "      gap: 12px;\n",
              "    }\n",
              "\n",
              "    .colab-df-convert {\n",
              "      background-color: #E8F0FE;\n",
              "      border: none;\n",
              "      border-radius: 50%;\n",
              "      cursor: pointer;\n",
              "      display: none;\n",
              "      fill: #1967D2;\n",
              "      height: 32px;\n",
              "      padding: 0 0 0 0;\n",
              "      width: 32px;\n",
              "    }\n",
              "\n",
              "    .colab-df-convert:hover {\n",
              "      background-color: #E2EBFA;\n",
              "      box-shadow: 0px 1px 2px rgba(60, 64, 67, 0.3), 0px 1px 3px 1px rgba(60, 64, 67, 0.15);\n",
              "      fill: #174EA6;\n",
              "    }\n",
              "\n",
              "    .colab-df-buttons div {\n",
              "      margin-bottom: 4px;\n",
              "    }\n",
              "\n",
              "    [theme=dark] .colab-df-convert {\n",
              "      background-color: #3B4455;\n",
              "      fill: #D2E3FC;\n",
              "    }\n",
              "\n",
              "    [theme=dark] .colab-df-convert:hover {\n",
              "      background-color: #434B5C;\n",
              "      box-shadow: 0px 1px 3px 1px rgba(0, 0, 0, 0.15);\n",
              "      filter: drop-shadow(0px 1px 2px rgba(0, 0, 0, 0.3));\n",
              "      fill: #FFFFFF;\n",
              "    }\n",
              "  </style>\n",
              "\n",
              "    <script>\n",
              "      const buttonEl =\n",
              "        document.querySelector('#df-4a36e883-b689-445c-901a-e2026c834a72 button.colab-df-convert');\n",
              "      buttonEl.style.display =\n",
              "        google.colab.kernel.accessAllowed ? 'block' : 'none';\n",
              "\n",
              "      async function convertToInteractive(key) {\n",
              "        const element = document.querySelector('#df-4a36e883-b689-445c-901a-e2026c834a72');\n",
              "        const dataTable =\n",
              "          await google.colab.kernel.invokeFunction('convertToInteractive',\n",
              "                                                    [key], {});\n",
              "        if (!dataTable) return;\n",
              "\n",
              "        const docLinkHtml = 'Like what you see? Visit the ' +\n",
              "          '<a target=\"_blank\" href=https://colab.research.google.com/notebooks/data_table.ipynb>data table notebook</a>'\n",
              "          + ' to learn more about interactive tables.';\n",
              "        element.innerHTML = '';\n",
              "        dataTable['output_type'] = 'display_data';\n",
              "        await google.colab.output.renderOutput(dataTable, element);\n",
              "        const docLink = document.createElement('div');\n",
              "        docLink.innerHTML = docLinkHtml;\n",
              "        element.appendChild(docLink);\n",
              "      }\n",
              "    </script>\n",
              "  </div>\n",
              "\n",
              "\n",
              "<div id=\"df-33fbe242-2ea0-474a-b477-fd0d0d2fc2b2\">\n",
              "  <button class=\"colab-df-quickchart\" onclick=\"quickchart('df-33fbe242-2ea0-474a-b477-fd0d0d2fc2b2')\"\n",
              "            title=\"Suggest charts\"\n",
              "            style=\"display:none;\">\n",
              "\n",
              "<svg xmlns=\"http://www.w3.org/2000/svg\" height=\"24px\"viewBox=\"0 0 24 24\"\n",
              "     width=\"24px\">\n",
              "    <g>\n",
              "        <path d=\"M19 3H5c-1.1 0-2 .9-2 2v14c0 1.1.9 2 2 2h14c1.1 0 2-.9 2-2V5c0-1.1-.9-2-2-2zM9 17H7v-7h2v7zm4 0h-2V7h2v10zm4 0h-2v-4h2v4z\"/>\n",
              "    </g>\n",
              "</svg>\n",
              "  </button>\n",
              "\n",
              "<style>\n",
              "  .colab-df-quickchart {\n",
              "      --bg-color: #E8F0FE;\n",
              "      --fill-color: #1967D2;\n",
              "      --hover-bg-color: #E2EBFA;\n",
              "      --hover-fill-color: #174EA6;\n",
              "      --disabled-fill-color: #AAA;\n",
              "      --disabled-bg-color: #DDD;\n",
              "  }\n",
              "\n",
              "  [theme=dark] .colab-df-quickchart {\n",
              "      --bg-color: #3B4455;\n",
              "      --fill-color: #D2E3FC;\n",
              "      --hover-bg-color: #434B5C;\n",
              "      --hover-fill-color: #FFFFFF;\n",
              "      --disabled-bg-color: #3B4455;\n",
              "      --disabled-fill-color: #666;\n",
              "  }\n",
              "\n",
              "  .colab-df-quickchart {\n",
              "    background-color: var(--bg-color);\n",
              "    border: none;\n",
              "    border-radius: 50%;\n",
              "    cursor: pointer;\n",
              "    display: none;\n",
              "    fill: var(--fill-color);\n",
              "    height: 32px;\n",
              "    padding: 0;\n",
              "    width: 32px;\n",
              "  }\n",
              "\n",
              "  .colab-df-quickchart:hover {\n",
              "    background-color: var(--hover-bg-color);\n",
              "    box-shadow: 0 1px 2px rgba(60, 64, 67, 0.3), 0 1px 3px 1px rgba(60, 64, 67, 0.15);\n",
              "    fill: var(--button-hover-fill-color);\n",
              "  }\n",
              "\n",
              "  .colab-df-quickchart-complete:disabled,\n",
              "  .colab-df-quickchart-complete:disabled:hover {\n",
              "    background-color: var(--disabled-bg-color);\n",
              "    fill: var(--disabled-fill-color);\n",
              "    box-shadow: none;\n",
              "  }\n",
              "\n",
              "  .colab-df-spinner {\n",
              "    border: 2px solid var(--fill-color);\n",
              "    border-color: transparent;\n",
              "    border-bottom-color: var(--fill-color);\n",
              "    animation:\n",
              "      spin 1s steps(1) infinite;\n",
              "  }\n",
              "\n",
              "  @keyframes spin {\n",
              "    0% {\n",
              "      border-color: transparent;\n",
              "      border-bottom-color: var(--fill-color);\n",
              "      border-left-color: var(--fill-color);\n",
              "    }\n",
              "    20% {\n",
              "      border-color: transparent;\n",
              "      border-left-color: var(--fill-color);\n",
              "      border-top-color: var(--fill-color);\n",
              "    }\n",
              "    30% {\n",
              "      border-color: transparent;\n",
              "      border-left-color: var(--fill-color);\n",
              "      border-top-color: var(--fill-color);\n",
              "      border-right-color: var(--fill-color);\n",
              "    }\n",
              "    40% {\n",
              "      border-color: transparent;\n",
              "      border-right-color: var(--fill-color);\n",
              "      border-top-color: var(--fill-color);\n",
              "    }\n",
              "    60% {\n",
              "      border-color: transparent;\n",
              "      border-right-color: var(--fill-color);\n",
              "    }\n",
              "    80% {\n",
              "      border-color: transparent;\n",
              "      border-right-color: var(--fill-color);\n",
              "      border-bottom-color: var(--fill-color);\n",
              "    }\n",
              "    90% {\n",
              "      border-color: transparent;\n",
              "      border-bottom-color: var(--fill-color);\n",
              "    }\n",
              "  }\n",
              "</style>\n",
              "\n",
              "  <script>\n",
              "    async function quickchart(key) {\n",
              "      const quickchartButtonEl =\n",
              "        document.querySelector('#' + key + ' button');\n",
              "      quickchartButtonEl.disabled = true;  // To prevent multiple clicks.\n",
              "      quickchartButtonEl.classList.add('colab-df-spinner');\n",
              "      try {\n",
              "        const charts = await google.colab.kernel.invokeFunction(\n",
              "            'suggestCharts', [key], {});\n",
              "      } catch (error) {\n",
              "        console.error('Error during call to suggestCharts:', error);\n",
              "      }\n",
              "      quickchartButtonEl.classList.remove('colab-df-spinner');\n",
              "      quickchartButtonEl.classList.add('colab-df-quickchart-complete');\n",
              "    }\n",
              "    (() => {\n",
              "      let quickchartButtonEl =\n",
              "        document.querySelector('#df-33fbe242-2ea0-474a-b477-fd0d0d2fc2b2 button');\n",
              "      quickchartButtonEl.style.display =\n",
              "        google.colab.kernel.accessAllowed ? 'block' : 'none';\n",
              "    })();\n",
              "  </script>\n",
              "</div>\n",
              "\n",
              "    </div>\n",
              "  </div>\n"
            ],
            "application/vnd.google.colaboratory.intrinsic+json": {
              "type": "dataframe",
              "variable_name": "data2",
              "summary": "{\n  \"name\": \"data2\",\n  \"rows\": 8760,\n  \"fields\": [\n    {\n      \"column\": \"ts\",\n      \"properties\": {\n        \"dtype\": \"object\",\n        \"num_unique_values\": 8760,\n        \"samples\": [\n          \"2022-09-10 08:00:00\",\n          \"2022-08-20 12:00:00\",\n          \"2022-09-07 14:00:00\"\n        ],\n        \"semantic_type\": \"\",\n        \"description\": \"\"\n      }\n    },\n    {\n      \"column\": \"Maximum temperature\",\n      \"properties\": {\n        \"dtype\": \"number\",\n        \"std\": 6.879539408987739,\n        \"min\": 266.5569458,\n        \"max\": 303.47729492,\n        \"num_unique_values\": 8642,\n        \"samples\": [\n          270.84338379,\n          287.67367554,\n          271.72488\n        ],\n        \"semantic_type\": \"\",\n        \"description\": \"\"\n      }\n    },\n    {\n      \"column\": \"Mean wind direction\",\n      \"properties\": {\n        \"dtype\": \"number\",\n        \"std\": 91.48351367992501,\n        \"min\": 0.00803368,\n        \"max\": 359.92303467,\n        \"num_unique_values\": 8673,\n        \"samples\": [\n          278.96115112,\n          266.79736328,\n          84.17306519\n        ],\n        \"semantic_type\": \"\",\n        \"description\": \"\"\n      }\n    },\n    {\n      \"column\": \"Mean wind speed\",\n      \"properties\": {\n        \"dtype\": \"number\",\n        \"std\": 1.9874582102082667,\n        \"min\": 0.00617049,\n        \"max\": 12.4164896,\n        \"num_unique_values\": 8694,\n        \"samples\": [\n          2.848258,\n          0.6079486,\n          4.32839537\n        ],\n        \"semantic_type\": \"\",\n        \"description\": \"\"\n      }\n    }\n  ]\n}"
            }
          },
          "metadata": {},
          "execution_count": 3
        }
      ]
    },
    {
      "cell_type": "markdown",
      "metadata": {
        "id": "oOTpGgpNLdFc"
      },
      "source": [
        "### Feature scaling"
      ]
    },
    {
      "cell_type": "markdown",
      "metadata": {
        "id": "AyDby2BJLdFd"
      },
      "source": [
        "In this step,we used Principal Component Analysis (PCA) to select and reduce the dimensionality of the features."
      ]
    },
    {
      "cell_type": "code",
      "execution_count": 4,
      "metadata": {
        "ExecuteTime": {
          "end_time": "2024-10-07T14:20:26.705850Z",
          "start_time": "2024-10-07T14:20:26.676852Z"
        },
        "id": "T4Uzkd3DLdFd"
      },
      "outputs": [],
      "source": [
        "scaler_standard = StandardScaler()\n",
        "scaler_minmax = MinMaxScaler()\n",
        "\n",
        "### 1. Standard Scaling for wind speed and temperature\n",
        "data['Mean wind speed'] = scaler_standard.fit_transform(data[['Mean wind speed']])\n",
        "data['Maximum temperature'] = scaler_standard.fit_transform(data[['Maximum temperature']])\n",
        "\n",
        "### 2. Wind Direction (convert to sin and cos components)\n",
        "data['Wind direction sin'] = np.sin(np.deg2rad(data['Mean wind direction']))\n",
        "data['Wind direction cos'] = np.cos(np.deg2rad(data['Mean wind direction']))\n",
        "\n",
        "### 3. Normalize Power Production\n",
        "nominal_capacity = 30000 # production capacity is 30 MW, unit of power production is kW so nominal capacity is 30000\n",
        "data['AKI Kalby Active Power'] = data['AKI Kalby Active Power'] / nominal_capacity\n",
        "\n",
        "# Dropping the original wind direction after transformation\n",
        "data = data.drop('Mean wind direction', axis=1)"
      ]
    },
    {
      "cell_type": "code",
      "source": [
        "### 1. Standard Scaling for wind speed and temperature\n",
        "data2['Mean wind speed'] = scaler_standard.fit_transform(data2[['Mean wind speed']])\n",
        "data2['Maximum temperature'] = scaler_standard.fit_transform(data2[['Maximum temperature']])\n",
        "\n",
        "### 2. Wind Direction (convert to sin and cos components)\n",
        "data2['Wind direction sin'] = np.sin(np.deg2rad(data2['Mean wind direction']))\n",
        "data2['Wind direction cos'] = np.cos(np.deg2rad(data2['Mean wind direction']))\n",
        "\n",
        "\n",
        "# Dropping the original wind direction after transformation\n",
        "data2 = data2.drop('Mean wind direction', axis=1)"
      ],
      "metadata": {
        "id": "idNTHcUSxezy"
      },
      "execution_count": 5,
      "outputs": []
    },
    {
      "cell_type": "code",
      "execution_count": 6,
      "metadata": {
        "id": "N5trYpCMLdFd"
      },
      "outputs": [],
      "source": [
        "# Make sure datetime is set as the index\n",
        "data['datetime'] = pd.to_datetime(data['datetime'])\n",
        "data.set_index('datetime', inplace=True)"
      ]
    },
    {
      "cell_type": "code",
      "source": [
        "data2['ts'] = pd.to_datetime(data2['ts'])\n",
        "data2.set_index('ts', inplace=True)"
      ],
      "metadata": {
        "id": "-Rv33q_3z06e"
      },
      "execution_count": 7,
      "outputs": []
    },
    {
      "cell_type": "code",
      "execution_count": 8,
      "metadata": {
        "ExecuteTime": {
          "end_time": "2024-10-07T14:20:28.968566Z",
          "start_time": "2024-10-07T14:20:28.962759Z"
        },
        "id": "O2vcLisLLdFe"
      },
      "outputs": [],
      "source": [
        "# set target and features, and remove non-numeric columns\n",
        "target_column = 'AKI Kalby Active Power'\n",
        "features = data.select_dtypes(include=[np.number]).drop(columns=[target_column])"
      ]
    },
    {
      "cell_type": "code",
      "execution_count": 9,
      "metadata": {
        "ExecuteTime": {
          "end_time": "2024-10-07T14:20:44.993Z",
          "start_time": "2024-10-07T14:20:44.979734Z"
        },
        "colab": {
          "base_uri": "https://localhost:8080/"
        },
        "id": "ax-rdzVwLdFf",
        "outputId": "af0cf2a4-b8fc-415f-dd28-78b647e4cd40"
      },
      "outputs": [
        {
          "output_type": "stream",
          "name": "stdout",
          "text": [
            "TRAIN indices: [   0    1    2 ... 6248 6249 6250] TEST indices: [6251 6252 6253 ... 7810 7811 7812]\n",
            "X_train shape: (6251, 4)\n",
            "X_test shape: (1562, 4)\n",
            "y_train shape: (6251,)\n",
            "y_test shape: (1562,)\n"
          ]
        }
      ],
      "source": [
        "# split the data\n",
        "X = data.drop(columns=[target_column])\n",
        "y = data[target_column]\n",
        "\n",
        "split_data= TimeSeriesSplit(n_splits=3, test_size=int(0.2*len(data)))\n",
        "for train_index, test_index in split_data.split(X):\n",
        "    X_train, X_test = X.iloc[train_index], X.iloc[test_index]\n",
        "    y_train, y_test = y.iloc[train_index], y.iloc[test_index]\n",
        "\n",
        "print(\"TRAIN indices:\", train_index, \"TEST indices:\", test_index)\n",
        "print(\"X_train shape:\", X_train.shape)\n",
        "print(\"X_test shape:\", X_test.shape)\n",
        "print(\"y_train shape:\", y_train.shape)\n",
        "print(\"y_test shape:\", y_test.shape)"
      ]
    },
    {
      "cell_type": "markdown",
      "metadata": {
        "id": "rAERVxihLdFf"
      },
      "source": [
        "### Step 3 Linear regression"
      ]
    },
    {
      "cell_type": "code",
      "execution_count": 10,
      "metadata": {
        "ExecuteTime": {
          "end_time": "2024-10-07T14:26:29.129022Z",
          "start_time": "2024-10-07T14:26:29.119042Z"
        },
        "id": "Q9M-5DnkLdFf"
      },
      "outputs": [],
      "source": [
        "# Step 3.1 Please show that these two methods end up with the same solution.\n",
        "X_sample = features[:100]\n",
        "X_forecast_sample = data2[:20]\n",
        "y_sample = data[target_column][:100]\n",
        "\n"
      ]
    },
    {
      "cell_type": "code",
      "execution_count": 11,
      "metadata": {
        "id": "vlGHvBjiLdFg"
      },
      "outputs": [],
      "source": [
        "# Sequential split (shuffle=False)\n",
        "X_sample_train, X_sample_test, y_sample_train, y_sample_test = train_test_split(\n",
        "    X_sample, y_sample, test_size=0.2, shuffle=False, random_state=42)\n",
        "\n",
        "# Adding a column of ones to X_sample for the bias term and converting to NumPy array\n",
        "X_sample_train_with_bias = np.c_[np.ones(X_sample_train.shape[0]), X_sample_train].astype(float)\n",
        "X_test_with_bias = np.c_[np.ones(X_sample_test.shape[0]), X_sample_test].astype(float)\n",
        "X_forecast_sample_with_bias=np.c_[np.ones(X_forecast_sample.shape[0]), X_forecast_sample].astype(float)\n",
        "\n",
        "# Ensure y_sample_train is also a NumPy array\n",
        "y_sample_train = np.array(y_sample_train).astype(float)"
      ]
    },
    {
      "cell_type": "code",
      "execution_count": 12,
      "metadata": {
        "ExecuteTime": {
          "end_time": "2024-10-07T14:26:41.034898Z",
          "start_time": "2024-10-07T14:26:31.807318Z"
        },
        "id": "mdA7WwUvLdFg"
      },
      "outputs": [],
      "source": [
        "# Gradient Descent function\n",
        "def gradient_descent(X, y, learning_rate=0.01, epochs=100000):\n",
        "    m, n = X.shape\n",
        "    theta = np.zeros(n)\n",
        "    for _ in range(epochs):\n",
        "        y_pred = X @ theta\n",
        "        gradients = (1/m) * X.T @ (y_pred - y)\n",
        "        theta -= learning_rate * gradients\n",
        "    return theta\n",
        "\n",
        "theta_gd = gradient_descent(X_sample_train_with_bias, y_sample_train)\n",
        "\n",
        "# Predictions using Gradient Descent\n",
        "y_pred_gd = X_forecast_sample_with_bias @ theta_gd"
      ]
    },
    {
      "cell_type": "code",
      "execution_count": 13,
      "metadata": {
        "ExecuteTime": {
          "end_time": "2024-10-07T14:29:23.213388Z",
          "start_time": "2024-10-07T14:29:23.108653Z"
        },
        "id": "HFUBuivDLdFg"
      },
      "outputs": [],
      "source": [
        "# Closed-form solution\n",
        "theta_closed_form = np.linalg.inv(X_sample_train_with_bias.T @ X_sample_train_with_bias) @ X_sample_train_with_bias.T @ y_sample_train\n",
        "\n",
        "# Predictions using closed-form solution\n",
        "y_pred_closed_form = X_forecast_sample_with_bias @ theta_closed_form\n",
        "# print(y_pred_closed_form)\n"
      ]
    },
    {
      "cell_type": "code",
      "execution_count": 14,
      "metadata": {
        "ExecuteTime": {
          "end_time": "2024-10-07T14:29:26.053054Z",
          "start_time": "2024-10-07T14:29:25.472272Z"
        },
        "colab": {
          "base_uri": "https://localhost:8080/"
        },
        "id": "IWWCdUfOLdFg",
        "outputId": "9f252b0d-c446-404a-ca92-4b1e1e15cb2c"
      },
      "outputs": [
        {
          "output_type": "stream",
          "name": "stdout",
          "text": [
            "Gradient Descent θ: ['-0.03789', '0.02592', '-0.04119', '0.01152', '0.01116']\n",
            "Closed-Form θ: ['-0.03789', '0.02592', '-0.04119', '0.01152', '0.01116']\n",
            "Gradient Descent MSE: 0.00206\n",
            "Closed-Form MSE: 0.00206\n"
          ]
        }
      ],
      "source": [
        "# mse calculation\n",
        "mse_gd = mean_squared_error(y_sample_test, y_pred_gd)\n",
        "mse_closed_form = mean_squared_error(y_sample_test, y_pred_closed_form)\n",
        "\n",
        "print(f\"Gradient Descent θ: {[f'{x:.5f}' for x in theta_gd]}\")\n",
        "print(f\"Closed-Form θ: {[f'{x:.5f}' for x in theta_closed_form]}\")\n",
        "print(f\"Gradient Descent MSE: {mse_gd:.5f}\")\n",
        "print(f\"Closed-Form MSE: {mse_closed_form:.5f}\")"
      ]
    },
    {
      "cell_type": "code",
      "execution_count": 15,
      "metadata": {
        "colab": {
          "base_uri": "https://localhost:8080/"
        },
        "id": "AiE41zTxLdFg",
        "outputId": "440d2210-b994-4d7f-9db1-b508df5102f7"
      },
      "outputs": [
        {
          "output_type": "stream",
          "name": "stdout",
          "text": [
            "Step 3.2: Closed-form solution training complete on the larger sample.\n",
            "Coefficients: ['-0.04394', '0.00016', '-0.03909', '0.00591', '0.00366']\n"
          ]
        }
      ],
      "source": [
        "# Step 3.2: Use the full dataset and closed form solution\n",
        "X_large_sample, X_large_test_sample, y_large_sample, y_large_test_sample = train_test_split(features, data[target_column], test_size=0.2, random_state=42)\n",
        "X_large_sample_forecast=data2[:1563]\n",
        "\n",
        "# Adding a column of ones for the bias term in the large sample\n",
        "X_large_sample_with_bias = np.c_[np.ones(X_large_sample.shape[0]), X_large_sample]\n",
        "X_large_test_sample_with_bias = np.c_[np.ones(X_large_test_sample.shape[0]), X_large_test_sample]\n",
        "X_large_sample_forecast_with_bias=np.c_[np.ones(X_large_sample_forecast.shape[0]), X_large_sample_forecast]\n",
        "\n",
        "# Upgrade the normal equation\n",
        "theta_large_sample = np.linalg.inv(X_large_sample_with_bias.T @ X_large_sample_with_bias) @ X_large_sample_with_bias.T @ y_large_sample\n",
        "theta_large_sample_rounded = np.round(theta_large_sample, 5)\n",
        "\n",
        "print(f\"Step 3.2: Closed-form solution training complete on the larger sample.\")\n",
        "print(f\"Coefficients: {[f'{x:.5f}' for x in theta_large_sample_rounded]}\")"
      ]
    },
    {
      "cell_type": "code",
      "source": [
        "X_large_test_sample.reset_index(inplace=True)\n",
        "data2_reset=data2.reset_index()\n",
        "data2_reset['datetime']=data2_reset['ts']"
      ],
      "metadata": {
        "id": "HkBJpVM2FuL5"
      },
      "execution_count": 16,
      "outputs": []
    },
    {
      "cell_type": "code",
      "source": [
        "X_large_test_sample = X_large_test_sample.set_index('datetime')\n",
        "data2_reset = data2_reset.set_index('datetime')\n",
        "merged_ds = X_large_test_sample.join(data2_reset, how='left', lsuffix='_left', rsuffix='_right').reset_index()\n",
        "merged_ds"
      ],
      "metadata": {
        "colab": {
          "base_uri": "https://localhost:8080/",
          "height": 805
        },
        "id": "z_Kdb7wlUMSV",
        "outputId": "1e038db7-a339-4d22-c440-de6b3bd4f53d"
      },
      "execution_count": 17,
      "outputs": [
        {
          "output_type": "execute_result",
          "data": {
            "text/plain": [
              "                datetime  Maximum temperature_left  Mean wind speed_left  \\\n",
              "0    2022-05-20 06:00:00                  1.427152              0.569432   \n",
              "1    2022-11-15 09:00:00                 -0.156329             -0.515250   \n",
              "2    2022-05-20 01:00:00                  1.819252              0.457224   \n",
              "3    2022-12-22 23:00:00                 -0.653995              0.906058   \n",
              "4    2022-08-20 20:00:00                  1.442233             -1.038890   \n",
              "...                  ...                       ...                   ...   \n",
              "1558 2022-09-03 12:00:00                  1.246183              0.307612   \n",
              "1559 2022-09-12 16:00:00                  1.065214             -0.552653   \n",
              "1560 2022-05-05 23:00:00                 -0.473025             -0.477847   \n",
              "1561 2022-04-01 16:00:00                 -1.106418              1.654115   \n",
              "1562 2022-03-30 03:00:00                 -1.332629              0.083195   \n",
              "\n",
              "      Wind direction sin_left  Wind direction cos_left                  ts  \\\n",
              "0                   -0.909961                -0.414693 2022-05-20 06:00:00   \n",
              "1                    0.898794                -0.438371 2022-11-15 09:00:00   \n",
              "2                   -0.544639                -0.838671 2022-05-20 01:00:00   \n",
              "3                   -0.891007                -0.453990 2022-12-22 23:00:00   \n",
              "4                   -0.913545                 0.406737 2022-08-20 20:00:00   \n",
              "...                       ...                      ...                 ...   \n",
              "1558                 0.961262                -0.275637 2022-09-03 12:00:00   \n",
              "1559                -0.707107                -0.707107 2022-09-12 16:00:00   \n",
              "1560                -0.974370                 0.224951 2022-05-05 23:00:00   \n",
              "1561                 0.681998                 0.731354 2022-04-01 16:00:00   \n",
              "1562                 0.819152                 0.573576 2022-03-30 03:00:00   \n",
              "\n",
              "      Maximum temperature_right  Mean wind speed_right  \\\n",
              "0                      0.963624              -0.130353   \n",
              "1                     -0.258735              -0.626248   \n",
              "2                      1.027204              -0.659087   \n",
              "3                     -0.744850               1.032841   \n",
              "4                      1.300281              -0.941475   \n",
              "...                         ...                    ...   \n",
              "1558                   1.147728              -0.344476   \n",
              "1559                   0.913578              -0.812598   \n",
              "1560                  -0.339004              -1.200294   \n",
              "1561                  -1.095397               1.063045   \n",
              "1562                  -1.361007              -0.371022   \n",
              "\n",
              "      Wind direction sin_right  Wind direction cos_right  \n",
              "0                    -0.890382                  0.455215  \n",
              "1                     0.964713                 -0.263303  \n",
              "2                    -0.994775                  0.102093  \n",
              "3                    -0.929767                 -0.368149  \n",
              "4                    -0.572338                  0.820018  \n",
              "...                        ...                       ...  \n",
              "1558                  0.987257                 -0.159132  \n",
              "1559                  0.249059                 -0.968488  \n",
              "1560                 -0.866022                  0.500006  \n",
              "1561                  0.743966                  0.668218  \n",
              "1562                  0.917115                  0.398623  \n",
              "\n",
              "[1563 rows x 10 columns]"
            ],
            "text/html": [
              "\n",
              "  <div id=\"df-e4f1ba28-590a-43a1-824f-01b199eb5fed\" class=\"colab-df-container\">\n",
              "    <div>\n",
              "<style scoped>\n",
              "    .dataframe tbody tr th:only-of-type {\n",
              "        vertical-align: middle;\n",
              "    }\n",
              "\n",
              "    .dataframe tbody tr th {\n",
              "        vertical-align: top;\n",
              "    }\n",
              "\n",
              "    .dataframe thead th {\n",
              "        text-align: right;\n",
              "    }\n",
              "</style>\n",
              "<table border=\"1\" class=\"dataframe\">\n",
              "  <thead>\n",
              "    <tr style=\"text-align: right;\">\n",
              "      <th></th>\n",
              "      <th>datetime</th>\n",
              "      <th>Maximum temperature_left</th>\n",
              "      <th>Mean wind speed_left</th>\n",
              "      <th>Wind direction sin_left</th>\n",
              "      <th>Wind direction cos_left</th>\n",
              "      <th>ts</th>\n",
              "      <th>Maximum temperature_right</th>\n",
              "      <th>Mean wind speed_right</th>\n",
              "      <th>Wind direction sin_right</th>\n",
              "      <th>Wind direction cos_right</th>\n",
              "    </tr>\n",
              "  </thead>\n",
              "  <tbody>\n",
              "    <tr>\n",
              "      <th>0</th>\n",
              "      <td>2022-05-20 06:00:00</td>\n",
              "      <td>1.427152</td>\n",
              "      <td>0.569432</td>\n",
              "      <td>-0.909961</td>\n",
              "      <td>-0.414693</td>\n",
              "      <td>2022-05-20 06:00:00</td>\n",
              "      <td>0.963624</td>\n",
              "      <td>-0.130353</td>\n",
              "      <td>-0.890382</td>\n",
              "      <td>0.455215</td>\n",
              "    </tr>\n",
              "    <tr>\n",
              "      <th>1</th>\n",
              "      <td>2022-11-15 09:00:00</td>\n",
              "      <td>-0.156329</td>\n",
              "      <td>-0.515250</td>\n",
              "      <td>0.898794</td>\n",
              "      <td>-0.438371</td>\n",
              "      <td>2022-11-15 09:00:00</td>\n",
              "      <td>-0.258735</td>\n",
              "      <td>-0.626248</td>\n",
              "      <td>0.964713</td>\n",
              "      <td>-0.263303</td>\n",
              "    </tr>\n",
              "    <tr>\n",
              "      <th>2</th>\n",
              "      <td>2022-05-20 01:00:00</td>\n",
              "      <td>1.819252</td>\n",
              "      <td>0.457224</td>\n",
              "      <td>-0.544639</td>\n",
              "      <td>-0.838671</td>\n",
              "      <td>2022-05-20 01:00:00</td>\n",
              "      <td>1.027204</td>\n",
              "      <td>-0.659087</td>\n",
              "      <td>-0.994775</td>\n",
              "      <td>0.102093</td>\n",
              "    </tr>\n",
              "    <tr>\n",
              "      <th>3</th>\n",
              "      <td>2022-12-22 23:00:00</td>\n",
              "      <td>-0.653995</td>\n",
              "      <td>0.906058</td>\n",
              "      <td>-0.891007</td>\n",
              "      <td>-0.453990</td>\n",
              "      <td>2022-12-22 23:00:00</td>\n",
              "      <td>-0.744850</td>\n",
              "      <td>1.032841</td>\n",
              "      <td>-0.929767</td>\n",
              "      <td>-0.368149</td>\n",
              "    </tr>\n",
              "    <tr>\n",
              "      <th>4</th>\n",
              "      <td>2022-08-20 20:00:00</td>\n",
              "      <td>1.442233</td>\n",
              "      <td>-1.038890</td>\n",
              "      <td>-0.913545</td>\n",
              "      <td>0.406737</td>\n",
              "      <td>2022-08-20 20:00:00</td>\n",
              "      <td>1.300281</td>\n",
              "      <td>-0.941475</td>\n",
              "      <td>-0.572338</td>\n",
              "      <td>0.820018</td>\n",
              "    </tr>\n",
              "    <tr>\n",
              "      <th>...</th>\n",
              "      <td>...</td>\n",
              "      <td>...</td>\n",
              "      <td>...</td>\n",
              "      <td>...</td>\n",
              "      <td>...</td>\n",
              "      <td>...</td>\n",
              "      <td>...</td>\n",
              "      <td>...</td>\n",
              "      <td>...</td>\n",
              "      <td>...</td>\n",
              "    </tr>\n",
              "    <tr>\n",
              "      <th>1558</th>\n",
              "      <td>2022-09-03 12:00:00</td>\n",
              "      <td>1.246183</td>\n",
              "      <td>0.307612</td>\n",
              "      <td>0.961262</td>\n",
              "      <td>-0.275637</td>\n",
              "      <td>2022-09-03 12:00:00</td>\n",
              "      <td>1.147728</td>\n",
              "      <td>-0.344476</td>\n",
              "      <td>0.987257</td>\n",
              "      <td>-0.159132</td>\n",
              "    </tr>\n",
              "    <tr>\n",
              "      <th>1559</th>\n",
              "      <td>2022-09-12 16:00:00</td>\n",
              "      <td>1.065214</td>\n",
              "      <td>-0.552653</td>\n",
              "      <td>-0.707107</td>\n",
              "      <td>-0.707107</td>\n",
              "      <td>2022-09-12 16:00:00</td>\n",
              "      <td>0.913578</td>\n",
              "      <td>-0.812598</td>\n",
              "      <td>0.249059</td>\n",
              "      <td>-0.968488</td>\n",
              "    </tr>\n",
              "    <tr>\n",
              "      <th>1560</th>\n",
              "      <td>2022-05-05 23:00:00</td>\n",
              "      <td>-0.473025</td>\n",
              "      <td>-0.477847</td>\n",
              "      <td>-0.974370</td>\n",
              "      <td>0.224951</td>\n",
              "      <td>2022-05-05 23:00:00</td>\n",
              "      <td>-0.339004</td>\n",
              "      <td>-1.200294</td>\n",
              "      <td>-0.866022</td>\n",
              "      <td>0.500006</td>\n",
              "    </tr>\n",
              "    <tr>\n",
              "      <th>1561</th>\n",
              "      <td>2022-04-01 16:00:00</td>\n",
              "      <td>-1.106418</td>\n",
              "      <td>1.654115</td>\n",
              "      <td>0.681998</td>\n",
              "      <td>0.731354</td>\n",
              "      <td>2022-04-01 16:00:00</td>\n",
              "      <td>-1.095397</td>\n",
              "      <td>1.063045</td>\n",
              "      <td>0.743966</td>\n",
              "      <td>0.668218</td>\n",
              "    </tr>\n",
              "    <tr>\n",
              "      <th>1562</th>\n",
              "      <td>2022-03-30 03:00:00</td>\n",
              "      <td>-1.332629</td>\n",
              "      <td>0.083195</td>\n",
              "      <td>0.819152</td>\n",
              "      <td>0.573576</td>\n",
              "      <td>2022-03-30 03:00:00</td>\n",
              "      <td>-1.361007</td>\n",
              "      <td>-0.371022</td>\n",
              "      <td>0.917115</td>\n",
              "      <td>0.398623</td>\n",
              "    </tr>\n",
              "  </tbody>\n",
              "</table>\n",
              "<p>1563 rows × 10 columns</p>\n",
              "</div>\n",
              "    <div class=\"colab-df-buttons\">\n",
              "\n",
              "  <div class=\"colab-df-container\">\n",
              "    <button class=\"colab-df-convert\" onclick=\"convertToInteractive('df-e4f1ba28-590a-43a1-824f-01b199eb5fed')\"\n",
              "            title=\"Convert this dataframe to an interactive table.\"\n",
              "            style=\"display:none;\">\n",
              "\n",
              "  <svg xmlns=\"http://www.w3.org/2000/svg\" height=\"24px\" viewBox=\"0 -960 960 960\">\n",
              "    <path d=\"M120-120v-720h720v720H120Zm60-500h600v-160H180v160Zm220 220h160v-160H400v160Zm0 220h160v-160H400v160ZM180-400h160v-160H180v160Zm440 0h160v-160H620v160ZM180-180h160v-160H180v160Zm440 0h160v-160H620v160Z\"/>\n",
              "  </svg>\n",
              "    </button>\n",
              "\n",
              "  <style>\n",
              "    .colab-df-container {\n",
              "      display:flex;\n",
              "      gap: 12px;\n",
              "    }\n",
              "\n",
              "    .colab-df-convert {\n",
              "      background-color: #E8F0FE;\n",
              "      border: none;\n",
              "      border-radius: 50%;\n",
              "      cursor: pointer;\n",
              "      display: none;\n",
              "      fill: #1967D2;\n",
              "      height: 32px;\n",
              "      padding: 0 0 0 0;\n",
              "      width: 32px;\n",
              "    }\n",
              "\n",
              "    .colab-df-convert:hover {\n",
              "      background-color: #E2EBFA;\n",
              "      box-shadow: 0px 1px 2px rgba(60, 64, 67, 0.3), 0px 1px 3px 1px rgba(60, 64, 67, 0.15);\n",
              "      fill: #174EA6;\n",
              "    }\n",
              "\n",
              "    .colab-df-buttons div {\n",
              "      margin-bottom: 4px;\n",
              "    }\n",
              "\n",
              "    [theme=dark] .colab-df-convert {\n",
              "      background-color: #3B4455;\n",
              "      fill: #D2E3FC;\n",
              "    }\n",
              "\n",
              "    [theme=dark] .colab-df-convert:hover {\n",
              "      background-color: #434B5C;\n",
              "      box-shadow: 0px 1px 3px 1px rgba(0, 0, 0, 0.15);\n",
              "      filter: drop-shadow(0px 1px 2px rgba(0, 0, 0, 0.3));\n",
              "      fill: #FFFFFF;\n",
              "    }\n",
              "  </style>\n",
              "\n",
              "    <script>\n",
              "      const buttonEl =\n",
              "        document.querySelector('#df-e4f1ba28-590a-43a1-824f-01b199eb5fed button.colab-df-convert');\n",
              "      buttonEl.style.display =\n",
              "        google.colab.kernel.accessAllowed ? 'block' : 'none';\n",
              "\n",
              "      async function convertToInteractive(key) {\n",
              "        const element = document.querySelector('#df-e4f1ba28-590a-43a1-824f-01b199eb5fed');\n",
              "        const dataTable =\n",
              "          await google.colab.kernel.invokeFunction('convertToInteractive',\n",
              "                                                    [key], {});\n",
              "        if (!dataTable) return;\n",
              "\n",
              "        const docLinkHtml = 'Like what you see? Visit the ' +\n",
              "          '<a target=\"_blank\" href=https://colab.research.google.com/notebooks/data_table.ipynb>data table notebook</a>'\n",
              "          + ' to learn more about interactive tables.';\n",
              "        element.innerHTML = '';\n",
              "        dataTable['output_type'] = 'display_data';\n",
              "        await google.colab.output.renderOutput(dataTable, element);\n",
              "        const docLink = document.createElement('div');\n",
              "        docLink.innerHTML = docLinkHtml;\n",
              "        element.appendChild(docLink);\n",
              "      }\n",
              "    </script>\n",
              "  </div>\n",
              "\n",
              "\n",
              "<div id=\"df-511dcb76-9036-4f8b-adff-7ca25aed4881\">\n",
              "  <button class=\"colab-df-quickchart\" onclick=\"quickchart('df-511dcb76-9036-4f8b-adff-7ca25aed4881')\"\n",
              "            title=\"Suggest charts\"\n",
              "            style=\"display:none;\">\n",
              "\n",
              "<svg xmlns=\"http://www.w3.org/2000/svg\" height=\"24px\"viewBox=\"0 0 24 24\"\n",
              "     width=\"24px\">\n",
              "    <g>\n",
              "        <path d=\"M19 3H5c-1.1 0-2 .9-2 2v14c0 1.1.9 2 2 2h14c1.1 0 2-.9 2-2V5c0-1.1-.9-2-2-2zM9 17H7v-7h2v7zm4 0h-2V7h2v10zm4 0h-2v-4h2v4z\"/>\n",
              "    </g>\n",
              "</svg>\n",
              "  </button>\n",
              "\n",
              "<style>\n",
              "  .colab-df-quickchart {\n",
              "      --bg-color: #E8F0FE;\n",
              "      --fill-color: #1967D2;\n",
              "      --hover-bg-color: #E2EBFA;\n",
              "      --hover-fill-color: #174EA6;\n",
              "      --disabled-fill-color: #AAA;\n",
              "      --disabled-bg-color: #DDD;\n",
              "  }\n",
              "\n",
              "  [theme=dark] .colab-df-quickchart {\n",
              "      --bg-color: #3B4455;\n",
              "      --fill-color: #D2E3FC;\n",
              "      --hover-bg-color: #434B5C;\n",
              "      --hover-fill-color: #FFFFFF;\n",
              "      --disabled-bg-color: #3B4455;\n",
              "      --disabled-fill-color: #666;\n",
              "  }\n",
              "\n",
              "  .colab-df-quickchart {\n",
              "    background-color: var(--bg-color);\n",
              "    border: none;\n",
              "    border-radius: 50%;\n",
              "    cursor: pointer;\n",
              "    display: none;\n",
              "    fill: var(--fill-color);\n",
              "    height: 32px;\n",
              "    padding: 0;\n",
              "    width: 32px;\n",
              "  }\n",
              "\n",
              "  .colab-df-quickchart:hover {\n",
              "    background-color: var(--hover-bg-color);\n",
              "    box-shadow: 0 1px 2px rgba(60, 64, 67, 0.3), 0 1px 3px 1px rgba(60, 64, 67, 0.15);\n",
              "    fill: var(--button-hover-fill-color);\n",
              "  }\n",
              "\n",
              "  .colab-df-quickchart-complete:disabled,\n",
              "  .colab-df-quickchart-complete:disabled:hover {\n",
              "    background-color: var(--disabled-bg-color);\n",
              "    fill: var(--disabled-fill-color);\n",
              "    box-shadow: none;\n",
              "  }\n",
              "\n",
              "  .colab-df-spinner {\n",
              "    border: 2px solid var(--fill-color);\n",
              "    border-color: transparent;\n",
              "    border-bottom-color: var(--fill-color);\n",
              "    animation:\n",
              "      spin 1s steps(1) infinite;\n",
              "  }\n",
              "\n",
              "  @keyframes spin {\n",
              "    0% {\n",
              "      border-color: transparent;\n",
              "      border-bottom-color: var(--fill-color);\n",
              "      border-left-color: var(--fill-color);\n",
              "    }\n",
              "    20% {\n",
              "      border-color: transparent;\n",
              "      border-left-color: var(--fill-color);\n",
              "      border-top-color: var(--fill-color);\n",
              "    }\n",
              "    30% {\n",
              "      border-color: transparent;\n",
              "      border-left-color: var(--fill-color);\n",
              "      border-top-color: var(--fill-color);\n",
              "      border-right-color: var(--fill-color);\n",
              "    }\n",
              "    40% {\n",
              "      border-color: transparent;\n",
              "      border-right-color: var(--fill-color);\n",
              "      border-top-color: var(--fill-color);\n",
              "    }\n",
              "    60% {\n",
              "      border-color: transparent;\n",
              "      border-right-color: var(--fill-color);\n",
              "    }\n",
              "    80% {\n",
              "      border-color: transparent;\n",
              "      border-right-color: var(--fill-color);\n",
              "      border-bottom-color: var(--fill-color);\n",
              "    }\n",
              "    90% {\n",
              "      border-color: transparent;\n",
              "      border-bottom-color: var(--fill-color);\n",
              "    }\n",
              "  }\n",
              "</style>\n",
              "\n",
              "  <script>\n",
              "    async function quickchart(key) {\n",
              "      const quickchartButtonEl =\n",
              "        document.querySelector('#' + key + ' button');\n",
              "      quickchartButtonEl.disabled = true;  // To prevent multiple clicks.\n",
              "      quickchartButtonEl.classList.add('colab-df-spinner');\n",
              "      try {\n",
              "        const charts = await google.colab.kernel.invokeFunction(\n",
              "            'suggestCharts', [key], {});\n",
              "      } catch (error) {\n",
              "        console.error('Error during call to suggestCharts:', error);\n",
              "      }\n",
              "      quickchartButtonEl.classList.remove('colab-df-spinner');\n",
              "      quickchartButtonEl.classList.add('colab-df-quickchart-complete');\n",
              "    }\n",
              "    (() => {\n",
              "      let quickchartButtonEl =\n",
              "        document.querySelector('#df-511dcb76-9036-4f8b-adff-7ca25aed4881 button');\n",
              "      quickchartButtonEl.style.display =\n",
              "        google.colab.kernel.accessAllowed ? 'block' : 'none';\n",
              "    })();\n",
              "  </script>\n",
              "</div>\n",
              "\n",
              "  <div id=\"id_8c2ff716-0a9b-4bc3-8319-52c61e09c482\">\n",
              "    <style>\n",
              "      .colab-df-generate {\n",
              "        background-color: #E8F0FE;\n",
              "        border: none;\n",
              "        border-radius: 50%;\n",
              "        cursor: pointer;\n",
              "        display: none;\n",
              "        fill: #1967D2;\n",
              "        height: 32px;\n",
              "        padding: 0 0 0 0;\n",
              "        width: 32px;\n",
              "      }\n",
              "\n",
              "      .colab-df-generate:hover {\n",
              "        background-color: #E2EBFA;\n",
              "        box-shadow: 0px 1px 2px rgba(60, 64, 67, 0.3), 0px 1px 3px 1px rgba(60, 64, 67, 0.15);\n",
              "        fill: #174EA6;\n",
              "      }\n",
              "\n",
              "      [theme=dark] .colab-df-generate {\n",
              "        background-color: #3B4455;\n",
              "        fill: #D2E3FC;\n",
              "      }\n",
              "\n",
              "      [theme=dark] .colab-df-generate:hover {\n",
              "        background-color: #434B5C;\n",
              "        box-shadow: 0px 1px 3px 1px rgba(0, 0, 0, 0.15);\n",
              "        filter: drop-shadow(0px 1px 2px rgba(0, 0, 0, 0.3));\n",
              "        fill: #FFFFFF;\n",
              "      }\n",
              "    </style>\n",
              "    <button class=\"colab-df-generate\" onclick=\"generateWithVariable('merged_ds')\"\n",
              "            title=\"Generate code using this dataframe.\"\n",
              "            style=\"display:none;\">\n",
              "\n",
              "  <svg xmlns=\"http://www.w3.org/2000/svg\" height=\"24px\"viewBox=\"0 0 24 24\"\n",
              "       width=\"24px\">\n",
              "    <path d=\"M7,19H8.4L18.45,9,17,7.55,7,17.6ZM5,21V16.75L18.45,3.32a2,2,0,0,1,2.83,0l1.4,1.43a1.91,1.91,0,0,1,.58,1.4,1.91,1.91,0,0,1-.58,1.4L9.25,21ZM18.45,9,17,7.55Zm-12,3A5.31,5.31,0,0,0,4.9,8.1,5.31,5.31,0,0,0,1,6.5,5.31,5.31,0,0,0,4.9,4.9,5.31,5.31,0,0,0,6.5,1,5.31,5.31,0,0,0,8.1,4.9,5.31,5.31,0,0,0,12,6.5,5.46,5.46,0,0,0,6.5,12Z\"/>\n",
              "  </svg>\n",
              "    </button>\n",
              "    <script>\n",
              "      (() => {\n",
              "      const buttonEl =\n",
              "        document.querySelector('#id_8c2ff716-0a9b-4bc3-8319-52c61e09c482 button.colab-df-generate');\n",
              "      buttonEl.style.display =\n",
              "        google.colab.kernel.accessAllowed ? 'block' : 'none';\n",
              "\n",
              "      buttonEl.onclick = () => {\n",
              "        google.colab.notebook.generateWithVariable('merged_ds');\n",
              "      }\n",
              "      })();\n",
              "    </script>\n",
              "  </div>\n",
              "\n",
              "    </div>\n",
              "  </div>\n"
            ],
            "application/vnd.google.colaboratory.intrinsic+json": {
              "type": "dataframe",
              "variable_name": "merged_ds",
              "summary": "{\n  \"name\": \"merged_ds\",\n  \"rows\": 1563,\n  \"fields\": [\n    {\n      \"column\": \"datetime\",\n      \"properties\": {\n        \"dtype\": \"date\",\n        \"min\": \"2022-01-01 00:00:00\",\n        \"max\": \"2022-12-31 23:00:00\",\n        \"num_unique_values\": 1563,\n        \"samples\": [\n          \"2022-06-06 17:00:00\",\n          \"2022-07-30 01:00:00\",\n          \"2022-09-26 22:00:00\"\n        ],\n        \"semantic_type\": \"\",\n        \"description\": \"\"\n      }\n    },\n    {\n      \"column\": \"Maximum temperature_left\",\n      \"properties\": {\n        \"dtype\": \"number\",\n        \"std\": 1.0148345958924254,\n        \"min\": -2.041425739885921,\n        \"max\": 2.7844216288725585,\n        \"num_unique_values\": 296,\n        \"samples\": [\n          -0.902827376319467,\n          -1.1818216773258163,\n          1.351748191272385\n        ],\n        \"semantic_type\": \"\",\n        \"description\": \"\"\n      }\n    },\n    {\n      \"column\": \"Mean wind speed_left\",\n      \"properties\": {\n        \"dtype\": \"number\",\n        \"std\": 1.0093153646084416,\n        \"min\": -1.7121414661464573,\n        \"max\": 4.309717512298303,\n        \"num_unique_values\": 150,\n        \"samples\": [\n          -1.4129186597641092,\n          0.3450153277321874,\n          -0.5339516660159609\n        ],\n        \"semantic_type\": \"\",\n        \"description\": \"\"\n      }\n    },\n    {\n      \"column\": \"Wind direction sin_left\",\n      \"properties\": {\n        \"dtype\": \"number\",\n        \"std\": 0.7493949969158794,\n        \"min\": -1.0,\n        \"max\": 1.0,\n        \"num_unique_values\": 314,\n        \"samples\": [\n          0.8746197071393959,\n          0.848048096156426,\n          -0.12186934340514731\n        ],\n        \"semantic_type\": \"\",\n        \"description\": \"\"\n      }\n    },\n    {\n      \"column\": \"Wind direction cos_left\",\n      \"properties\": {\n        \"dtype\": \"number\",\n        \"std\": 0.5943631586490341,\n        \"min\": -1.0,\n        \"max\": 1.0,\n        \"num_unique_values\": 313,\n        \"samples\": [\n          -0.8290375725550418,\n          0.9335804264972017,\n          0.3255681544571563\n        ],\n        \"semantic_type\": \"\",\n        \"description\": \"\"\n      }\n    },\n    {\n      \"column\": \"ts\",\n      \"properties\": {\n        \"dtype\": \"date\",\n        \"min\": \"2022-01-01 00:00:00\",\n        \"max\": \"2022-12-31 23:00:00\",\n        \"num_unique_values\": 1563,\n        \"samples\": [\n          \"2022-06-06 17:00:00\",\n          \"2022-07-30 01:00:00\",\n          \"2022-09-26 22:00:00\"\n        ],\n        \"semantic_type\": \"\",\n        \"description\": \"\"\n      }\n    },\n    {\n      \"column\": \"Maximum temperature_right\",\n      \"properties\": {\n        \"dtype\": \"number\",\n        \"std\": 1.0197717868540006,\n        \"min\": -2.289620979059863,\n        \"max\": 3.0623355898278564,\n        \"num_unique_values\": 1554,\n        \"samples\": [\n          -0.7155171497627103,\n          0.05281381153881024,\n          -1.15339420461036\n        ],\n        \"semantic_type\": \"\",\n        \"description\": \"\"\n      }\n    },\n    {\n      \"column\": \"Mean wind speed_right\",\n      \"properties\": {\n        \"dtype\": \"number\",\n        \"std\": 0.9837099691356418,\n        \"min\": -1.647542765747327,\n        \"max\": 4.248844137617288,\n        \"num_unique_values\": 1555,\n        \"samples\": [\n          -1.2753685048602812,\n          -1.1611307823955397,\n          0.4589544552195466\n        ],\n        \"semantic_type\": \"\",\n        \"description\": \"\"\n      }\n    },\n    {\n      \"column\": \"Wind direction sin_right\",\n      \"properties\": {\n        \"dtype\": \"number\",\n        \"std\": 0.7327212845927698,\n        \"min\": -0.9999999559916379,\n        \"max\": 0.9999981462921036,\n        \"num_unique_values\": 1554,\n        \"samples\": [\n          0.729769580942359,\n          -0.46878245048007977,\n          0.09679392401034846\n        ],\n        \"semantic_type\": \"\",\n        \"description\": \"\"\n      }\n    },\n    {\n      \"column\": \"Wind direction cos_right\",\n      \"properties\": {\n        \"dtype\": \"number\",\n        \"std\": 0.6361277651355207,\n        \"min\": -0.9999992545070667,\n        \"max\": 0.9999718871583319,\n        \"num_unique_values\": 1554,\n        \"samples\": [\n          -0.6836931758700051,\n          -0.8833136555730878,\n          -0.9953044440143322\n        ],\n        \"semantic_type\": \"\",\n        \"description\": \"\"\n      }\n    }\n  ]\n}"
            }
          },
          "metadata": {},
          "execution_count": 17
        }
      ]
    },
    {
      "cell_type": "code",
      "source": [
        "merged_ds=merged_ds.drop('Maximum temperature_left', axis=1)\n",
        "merged_ds=merged_ds.drop('Mean wind speed_left', axis=1)\n",
        "merged_ds=merged_ds.drop('Wind direction sin_left', axis=1)\n",
        "merged_ds=merged_ds.drop('Wind direction cos_left', axis=1)\n",
        "merged_ds=merged_ds.drop('datetime', axis=1)"
      ],
      "metadata": {
        "id": "kUj3lj_lVRGF"
      },
      "execution_count": 19,
      "outputs": []
    },
    {
      "cell_type": "code",
      "source": [
        "merged_ds=merged_ds.drop('ts', axis=1)\n",
        "merged_ds"
      ],
      "metadata": {
        "colab": {
          "base_uri": "https://localhost:8080/",
          "height": 423
        },
        "id": "25J_cAWVfCMw",
        "outputId": "4c4419f7-47f5-410c-8b69-e6059418a50a"
      },
      "execution_count": 20,
      "outputs": [
        {
          "output_type": "execute_result",
          "data": {
            "text/plain": [
              "      Maximum temperature_right  Mean wind speed_right  \\\n",
              "0                      0.963624              -0.130353   \n",
              "1                     -0.258735              -0.626248   \n",
              "2                      1.027204              -0.659087   \n",
              "3                     -0.744850               1.032841   \n",
              "4                      1.300281              -0.941475   \n",
              "...                         ...                    ...   \n",
              "1558                   1.147728              -0.344476   \n",
              "1559                   0.913578              -0.812598   \n",
              "1560                  -0.339004              -1.200294   \n",
              "1561                  -1.095397               1.063045   \n",
              "1562                  -1.361007              -0.371022   \n",
              "\n",
              "      Wind direction sin_right  Wind direction cos_right  \n",
              "0                    -0.890382                  0.455215  \n",
              "1                     0.964713                 -0.263303  \n",
              "2                    -0.994775                  0.102093  \n",
              "3                    -0.929767                 -0.368149  \n",
              "4                    -0.572338                  0.820018  \n",
              "...                        ...                       ...  \n",
              "1558                  0.987257                 -0.159132  \n",
              "1559                  0.249059                 -0.968488  \n",
              "1560                 -0.866022                  0.500006  \n",
              "1561                  0.743966                  0.668218  \n",
              "1562                  0.917115                  0.398623  \n",
              "\n",
              "[1563 rows x 4 columns]"
            ],
            "text/html": [
              "\n",
              "  <div id=\"df-c5336794-e81c-4c2c-814e-0318e79438b2\" class=\"colab-df-container\">\n",
              "    <div>\n",
              "<style scoped>\n",
              "    .dataframe tbody tr th:only-of-type {\n",
              "        vertical-align: middle;\n",
              "    }\n",
              "\n",
              "    .dataframe tbody tr th {\n",
              "        vertical-align: top;\n",
              "    }\n",
              "\n",
              "    .dataframe thead th {\n",
              "        text-align: right;\n",
              "    }\n",
              "</style>\n",
              "<table border=\"1\" class=\"dataframe\">\n",
              "  <thead>\n",
              "    <tr style=\"text-align: right;\">\n",
              "      <th></th>\n",
              "      <th>Maximum temperature_right</th>\n",
              "      <th>Mean wind speed_right</th>\n",
              "      <th>Wind direction sin_right</th>\n",
              "      <th>Wind direction cos_right</th>\n",
              "    </tr>\n",
              "  </thead>\n",
              "  <tbody>\n",
              "    <tr>\n",
              "      <th>0</th>\n",
              "      <td>0.963624</td>\n",
              "      <td>-0.130353</td>\n",
              "      <td>-0.890382</td>\n",
              "      <td>0.455215</td>\n",
              "    </tr>\n",
              "    <tr>\n",
              "      <th>1</th>\n",
              "      <td>-0.258735</td>\n",
              "      <td>-0.626248</td>\n",
              "      <td>0.964713</td>\n",
              "      <td>-0.263303</td>\n",
              "    </tr>\n",
              "    <tr>\n",
              "      <th>2</th>\n",
              "      <td>1.027204</td>\n",
              "      <td>-0.659087</td>\n",
              "      <td>-0.994775</td>\n",
              "      <td>0.102093</td>\n",
              "    </tr>\n",
              "    <tr>\n",
              "      <th>3</th>\n",
              "      <td>-0.744850</td>\n",
              "      <td>1.032841</td>\n",
              "      <td>-0.929767</td>\n",
              "      <td>-0.368149</td>\n",
              "    </tr>\n",
              "    <tr>\n",
              "      <th>4</th>\n",
              "      <td>1.300281</td>\n",
              "      <td>-0.941475</td>\n",
              "      <td>-0.572338</td>\n",
              "      <td>0.820018</td>\n",
              "    </tr>\n",
              "    <tr>\n",
              "      <th>...</th>\n",
              "      <td>...</td>\n",
              "      <td>...</td>\n",
              "      <td>...</td>\n",
              "      <td>...</td>\n",
              "    </tr>\n",
              "    <tr>\n",
              "      <th>1558</th>\n",
              "      <td>1.147728</td>\n",
              "      <td>-0.344476</td>\n",
              "      <td>0.987257</td>\n",
              "      <td>-0.159132</td>\n",
              "    </tr>\n",
              "    <tr>\n",
              "      <th>1559</th>\n",
              "      <td>0.913578</td>\n",
              "      <td>-0.812598</td>\n",
              "      <td>0.249059</td>\n",
              "      <td>-0.968488</td>\n",
              "    </tr>\n",
              "    <tr>\n",
              "      <th>1560</th>\n",
              "      <td>-0.339004</td>\n",
              "      <td>-1.200294</td>\n",
              "      <td>-0.866022</td>\n",
              "      <td>0.500006</td>\n",
              "    </tr>\n",
              "    <tr>\n",
              "      <th>1561</th>\n",
              "      <td>-1.095397</td>\n",
              "      <td>1.063045</td>\n",
              "      <td>0.743966</td>\n",
              "      <td>0.668218</td>\n",
              "    </tr>\n",
              "    <tr>\n",
              "      <th>1562</th>\n",
              "      <td>-1.361007</td>\n",
              "      <td>-0.371022</td>\n",
              "      <td>0.917115</td>\n",
              "      <td>0.398623</td>\n",
              "    </tr>\n",
              "  </tbody>\n",
              "</table>\n",
              "<p>1563 rows × 4 columns</p>\n",
              "</div>\n",
              "    <div class=\"colab-df-buttons\">\n",
              "\n",
              "  <div class=\"colab-df-container\">\n",
              "    <button class=\"colab-df-convert\" onclick=\"convertToInteractive('df-c5336794-e81c-4c2c-814e-0318e79438b2')\"\n",
              "            title=\"Convert this dataframe to an interactive table.\"\n",
              "            style=\"display:none;\">\n",
              "\n",
              "  <svg xmlns=\"http://www.w3.org/2000/svg\" height=\"24px\" viewBox=\"0 -960 960 960\">\n",
              "    <path d=\"M120-120v-720h720v720H120Zm60-500h600v-160H180v160Zm220 220h160v-160H400v160Zm0 220h160v-160H400v160ZM180-400h160v-160H180v160Zm440 0h160v-160H620v160ZM180-180h160v-160H180v160Zm440 0h160v-160H620v160Z\"/>\n",
              "  </svg>\n",
              "    </button>\n",
              "\n",
              "  <style>\n",
              "    .colab-df-container {\n",
              "      display:flex;\n",
              "      gap: 12px;\n",
              "    }\n",
              "\n",
              "    .colab-df-convert {\n",
              "      background-color: #E8F0FE;\n",
              "      border: none;\n",
              "      border-radius: 50%;\n",
              "      cursor: pointer;\n",
              "      display: none;\n",
              "      fill: #1967D2;\n",
              "      height: 32px;\n",
              "      padding: 0 0 0 0;\n",
              "      width: 32px;\n",
              "    }\n",
              "\n",
              "    .colab-df-convert:hover {\n",
              "      background-color: #E2EBFA;\n",
              "      box-shadow: 0px 1px 2px rgba(60, 64, 67, 0.3), 0px 1px 3px 1px rgba(60, 64, 67, 0.15);\n",
              "      fill: #174EA6;\n",
              "    }\n",
              "\n",
              "    .colab-df-buttons div {\n",
              "      margin-bottom: 4px;\n",
              "    }\n",
              "\n",
              "    [theme=dark] .colab-df-convert {\n",
              "      background-color: #3B4455;\n",
              "      fill: #D2E3FC;\n",
              "    }\n",
              "\n",
              "    [theme=dark] .colab-df-convert:hover {\n",
              "      background-color: #434B5C;\n",
              "      box-shadow: 0px 1px 3px 1px rgba(0, 0, 0, 0.15);\n",
              "      filter: drop-shadow(0px 1px 2px rgba(0, 0, 0, 0.3));\n",
              "      fill: #FFFFFF;\n",
              "    }\n",
              "  </style>\n",
              "\n",
              "    <script>\n",
              "      const buttonEl =\n",
              "        document.querySelector('#df-c5336794-e81c-4c2c-814e-0318e79438b2 button.colab-df-convert');\n",
              "      buttonEl.style.display =\n",
              "        google.colab.kernel.accessAllowed ? 'block' : 'none';\n",
              "\n",
              "      async function convertToInteractive(key) {\n",
              "        const element = document.querySelector('#df-c5336794-e81c-4c2c-814e-0318e79438b2');\n",
              "        const dataTable =\n",
              "          await google.colab.kernel.invokeFunction('convertToInteractive',\n",
              "                                                    [key], {});\n",
              "        if (!dataTable) return;\n",
              "\n",
              "        const docLinkHtml = 'Like what you see? Visit the ' +\n",
              "          '<a target=\"_blank\" href=https://colab.research.google.com/notebooks/data_table.ipynb>data table notebook</a>'\n",
              "          + ' to learn more about interactive tables.';\n",
              "        element.innerHTML = '';\n",
              "        dataTable['output_type'] = 'display_data';\n",
              "        await google.colab.output.renderOutput(dataTable, element);\n",
              "        const docLink = document.createElement('div');\n",
              "        docLink.innerHTML = docLinkHtml;\n",
              "        element.appendChild(docLink);\n",
              "      }\n",
              "    </script>\n",
              "  </div>\n",
              "\n",
              "\n",
              "<div id=\"df-08bb6b22-d637-4088-b868-e31270f37259\">\n",
              "  <button class=\"colab-df-quickchart\" onclick=\"quickchart('df-08bb6b22-d637-4088-b868-e31270f37259')\"\n",
              "            title=\"Suggest charts\"\n",
              "            style=\"display:none;\">\n",
              "\n",
              "<svg xmlns=\"http://www.w3.org/2000/svg\" height=\"24px\"viewBox=\"0 0 24 24\"\n",
              "     width=\"24px\">\n",
              "    <g>\n",
              "        <path d=\"M19 3H5c-1.1 0-2 .9-2 2v14c0 1.1.9 2 2 2h14c1.1 0 2-.9 2-2V5c0-1.1-.9-2-2-2zM9 17H7v-7h2v7zm4 0h-2V7h2v10zm4 0h-2v-4h2v4z\"/>\n",
              "    </g>\n",
              "</svg>\n",
              "  </button>\n",
              "\n",
              "<style>\n",
              "  .colab-df-quickchart {\n",
              "      --bg-color: #E8F0FE;\n",
              "      --fill-color: #1967D2;\n",
              "      --hover-bg-color: #E2EBFA;\n",
              "      --hover-fill-color: #174EA6;\n",
              "      --disabled-fill-color: #AAA;\n",
              "      --disabled-bg-color: #DDD;\n",
              "  }\n",
              "\n",
              "  [theme=dark] .colab-df-quickchart {\n",
              "      --bg-color: #3B4455;\n",
              "      --fill-color: #D2E3FC;\n",
              "      --hover-bg-color: #434B5C;\n",
              "      --hover-fill-color: #FFFFFF;\n",
              "      --disabled-bg-color: #3B4455;\n",
              "      --disabled-fill-color: #666;\n",
              "  }\n",
              "\n",
              "  .colab-df-quickchart {\n",
              "    background-color: var(--bg-color);\n",
              "    border: none;\n",
              "    border-radius: 50%;\n",
              "    cursor: pointer;\n",
              "    display: none;\n",
              "    fill: var(--fill-color);\n",
              "    height: 32px;\n",
              "    padding: 0;\n",
              "    width: 32px;\n",
              "  }\n",
              "\n",
              "  .colab-df-quickchart:hover {\n",
              "    background-color: var(--hover-bg-color);\n",
              "    box-shadow: 0 1px 2px rgba(60, 64, 67, 0.3), 0 1px 3px 1px rgba(60, 64, 67, 0.15);\n",
              "    fill: var(--button-hover-fill-color);\n",
              "  }\n",
              "\n",
              "  .colab-df-quickchart-complete:disabled,\n",
              "  .colab-df-quickchart-complete:disabled:hover {\n",
              "    background-color: var(--disabled-bg-color);\n",
              "    fill: var(--disabled-fill-color);\n",
              "    box-shadow: none;\n",
              "  }\n",
              "\n",
              "  .colab-df-spinner {\n",
              "    border: 2px solid var(--fill-color);\n",
              "    border-color: transparent;\n",
              "    border-bottom-color: var(--fill-color);\n",
              "    animation:\n",
              "      spin 1s steps(1) infinite;\n",
              "  }\n",
              "\n",
              "  @keyframes spin {\n",
              "    0% {\n",
              "      border-color: transparent;\n",
              "      border-bottom-color: var(--fill-color);\n",
              "      border-left-color: var(--fill-color);\n",
              "    }\n",
              "    20% {\n",
              "      border-color: transparent;\n",
              "      border-left-color: var(--fill-color);\n",
              "      border-top-color: var(--fill-color);\n",
              "    }\n",
              "    30% {\n",
              "      border-color: transparent;\n",
              "      border-left-color: var(--fill-color);\n",
              "      border-top-color: var(--fill-color);\n",
              "      border-right-color: var(--fill-color);\n",
              "    }\n",
              "    40% {\n",
              "      border-color: transparent;\n",
              "      border-right-color: var(--fill-color);\n",
              "      border-top-color: var(--fill-color);\n",
              "    }\n",
              "    60% {\n",
              "      border-color: transparent;\n",
              "      border-right-color: var(--fill-color);\n",
              "    }\n",
              "    80% {\n",
              "      border-color: transparent;\n",
              "      border-right-color: var(--fill-color);\n",
              "      border-bottom-color: var(--fill-color);\n",
              "    }\n",
              "    90% {\n",
              "      border-color: transparent;\n",
              "      border-bottom-color: var(--fill-color);\n",
              "    }\n",
              "  }\n",
              "</style>\n",
              "\n",
              "  <script>\n",
              "    async function quickchart(key) {\n",
              "      const quickchartButtonEl =\n",
              "        document.querySelector('#' + key + ' button');\n",
              "      quickchartButtonEl.disabled = true;  // To prevent multiple clicks.\n",
              "      quickchartButtonEl.classList.add('colab-df-spinner');\n",
              "      try {\n",
              "        const charts = await google.colab.kernel.invokeFunction(\n",
              "            'suggestCharts', [key], {});\n",
              "      } catch (error) {\n",
              "        console.error('Error during call to suggestCharts:', error);\n",
              "      }\n",
              "      quickchartButtonEl.classList.remove('colab-df-spinner');\n",
              "      quickchartButtonEl.classList.add('colab-df-quickchart-complete');\n",
              "    }\n",
              "    (() => {\n",
              "      let quickchartButtonEl =\n",
              "        document.querySelector('#df-08bb6b22-d637-4088-b868-e31270f37259 button');\n",
              "      quickchartButtonEl.style.display =\n",
              "        google.colab.kernel.accessAllowed ? 'block' : 'none';\n",
              "    })();\n",
              "  </script>\n",
              "</div>\n",
              "\n",
              "  <div id=\"id_021eda5c-9b13-4b56-8972-26eed3907363\">\n",
              "    <style>\n",
              "      .colab-df-generate {\n",
              "        background-color: #E8F0FE;\n",
              "        border: none;\n",
              "        border-radius: 50%;\n",
              "        cursor: pointer;\n",
              "        display: none;\n",
              "        fill: #1967D2;\n",
              "        height: 32px;\n",
              "        padding: 0 0 0 0;\n",
              "        width: 32px;\n",
              "      }\n",
              "\n",
              "      .colab-df-generate:hover {\n",
              "        background-color: #E2EBFA;\n",
              "        box-shadow: 0px 1px 2px rgba(60, 64, 67, 0.3), 0px 1px 3px 1px rgba(60, 64, 67, 0.15);\n",
              "        fill: #174EA6;\n",
              "      }\n",
              "\n",
              "      [theme=dark] .colab-df-generate {\n",
              "        background-color: #3B4455;\n",
              "        fill: #D2E3FC;\n",
              "      }\n",
              "\n",
              "      [theme=dark] .colab-df-generate:hover {\n",
              "        background-color: #434B5C;\n",
              "        box-shadow: 0px 1px 3px 1px rgba(0, 0, 0, 0.15);\n",
              "        filter: drop-shadow(0px 1px 2px rgba(0, 0, 0, 0.3));\n",
              "        fill: #FFFFFF;\n",
              "      }\n",
              "    </style>\n",
              "    <button class=\"colab-df-generate\" onclick=\"generateWithVariable('merged_ds')\"\n",
              "            title=\"Generate code using this dataframe.\"\n",
              "            style=\"display:none;\">\n",
              "\n",
              "  <svg xmlns=\"http://www.w3.org/2000/svg\" height=\"24px\"viewBox=\"0 0 24 24\"\n",
              "       width=\"24px\">\n",
              "    <path d=\"M7,19H8.4L18.45,9,17,7.55,7,17.6ZM5,21V16.75L18.45,3.32a2,2,0,0,1,2.83,0l1.4,1.43a1.91,1.91,0,0,1,.58,1.4,1.91,1.91,0,0,1-.58,1.4L9.25,21ZM18.45,9,17,7.55Zm-12,3A5.31,5.31,0,0,0,4.9,8.1,5.31,5.31,0,0,0,1,6.5,5.31,5.31,0,0,0,4.9,4.9,5.31,5.31,0,0,0,6.5,1,5.31,5.31,0,0,0,8.1,4.9,5.31,5.31,0,0,0,12,6.5,5.46,5.46,0,0,0,6.5,12Z\"/>\n",
              "  </svg>\n",
              "    </button>\n",
              "    <script>\n",
              "      (() => {\n",
              "      const buttonEl =\n",
              "        document.querySelector('#id_021eda5c-9b13-4b56-8972-26eed3907363 button.colab-df-generate');\n",
              "      buttonEl.style.display =\n",
              "        google.colab.kernel.accessAllowed ? 'block' : 'none';\n",
              "\n",
              "      buttonEl.onclick = () => {\n",
              "        google.colab.notebook.generateWithVariable('merged_ds');\n",
              "      }\n",
              "      })();\n",
              "    </script>\n",
              "  </div>\n",
              "\n",
              "    </div>\n",
              "  </div>\n"
            ],
            "application/vnd.google.colaboratory.intrinsic+json": {
              "type": "dataframe",
              "variable_name": "merged_ds",
              "summary": "{\n  \"name\": \"merged_ds\",\n  \"rows\": 1563,\n  \"fields\": [\n    {\n      \"column\": \"Maximum temperature_right\",\n      \"properties\": {\n        \"dtype\": \"number\",\n        \"std\": 1.0197717868540006,\n        \"min\": -2.289620979059863,\n        \"max\": 3.0623355898278564,\n        \"num_unique_values\": 1554,\n        \"samples\": [\n          -0.7155171497627103,\n          0.05281381153881024,\n          -1.15339420461036\n        ],\n        \"semantic_type\": \"\",\n        \"description\": \"\"\n      }\n    },\n    {\n      \"column\": \"Mean wind speed_right\",\n      \"properties\": {\n        \"dtype\": \"number\",\n        \"std\": 0.9837099691356418,\n        \"min\": -1.647542765747327,\n        \"max\": 4.248844137617288,\n        \"num_unique_values\": 1555,\n        \"samples\": [\n          -1.2753685048602812,\n          -1.1611307823955397,\n          0.4589544552195466\n        ],\n        \"semantic_type\": \"\",\n        \"description\": \"\"\n      }\n    },\n    {\n      \"column\": \"Wind direction sin_right\",\n      \"properties\": {\n        \"dtype\": \"number\",\n        \"std\": 0.7327212845927698,\n        \"min\": -0.9999999559916379,\n        \"max\": 0.9999981462921036,\n        \"num_unique_values\": 1554,\n        \"samples\": [\n          0.729769580942359,\n          -0.46878245048007977,\n          0.09679392401034846\n        ],\n        \"semantic_type\": \"\",\n        \"description\": \"\"\n      }\n    },\n    {\n      \"column\": \"Wind direction cos_right\",\n      \"properties\": {\n        \"dtype\": \"number\",\n        \"std\": 0.6361277651355207,\n        \"min\": -0.9999992545070667,\n        \"max\": 0.9999718871583319,\n        \"num_unique_values\": 1554,\n        \"samples\": [\n          -0.6836931758700051,\n          -0.8833136555730878,\n          -0.9953044440143322\n        ],\n        \"semantic_type\": \"\",\n        \"description\": \"\"\n      }\n    }\n  ]\n}"
            }
          },
          "metadata": {},
          "execution_count": 20
        }
      ]
    },
    {
      "cell_type": "code",
      "source": [
        "merged_ds_with_bias=np.c_[np.ones(merged_ds.shape[0]), merged_ds]"
      ],
      "metadata": {
        "id": "qcpRNTriWyy4"
      },
      "execution_count": 21,
      "outputs": []
    },
    {
      "cell_type": "code",
      "execution_count": 23,
      "metadata": {
        "colab": {
          "base_uri": "https://localhost:8080/"
        },
        "id": "pArDScFyLdFh",
        "outputId": "8d6c55b4-b254-4731-df6f-534246d344a0"
      },
      "outputs": [
        {
          "output_type": "stream",
          "name": "stdout",
          "text": [
            "Step 3.3: Model evaluation on the testing dataset:\n",
            "Root Mean Squared Error (RMSE): 0.02865\n",
            "Mean Squared Error (MSE): 0.00082\n",
            "Mean Absolute Error (MAE): 0.02156\n",
            "R-squared: 0.68197\n"
          ]
        }
      ],
      "source": [
        "# Step 3.3: Verify your model using the testing dataset and appropriate evaluation metrics\n",
        "y_large_pred_closed_form = merged_ds_with_bias @ theta_large_sample\n",
        "\n",
        "mse = mean_squared_error(y_large_test_sample, y_large_pred_closed_form)\n",
        "mae = mean_absolute_error(y_large_test_sample, y_large_pred_closed_form)\n",
        "r2 = r2_score(y_large_test_sample, y_large_pred_closed_form)\n",
        "rmse = np.sqrt(mse)\n",
        "\n",
        "print(f\"Step 3.3: Model evaluation on the testing dataset:\")\n",
        "print(f\"Root Mean Squared Error (RMSE): {rmse:.5f}\")\n",
        "print(f\"Mean Squared Error (MSE): {mse:.5f}\")\n",
        "print(f\"Mean Absolute Error (MAE): {mae:.5f}\")\n",
        "print(f\"R-squared: {r2:.5f}\")"
      ]
    },
    {
      "cell_type": "markdown",
      "metadata": {
        "id": "iKSsevjfLdFh"
      },
      "source": [
        "### Step 4 Non-linear Regression\n",
        "\n",
        "In Step 1's formulation, if the price $\\lambda$ is treated as a constant and the actual value p is known, the entire formula simplifies into a function dependent on the predicted value $\\hat{p}_t$. This implies that the problem can be reframed as an optimization task concerning the prediction of $\\hat{p}_t$. Given this perspective, extending the linear regression model from Step 3 by incorporating nonlinear features to predict $\\hat{p}_t$ effectively transforms the problem into a nonlinear regression for Step 1's objective. Therefore, performing nonlinear regression on the prediction model of $\\hat{p}_t$ inherently satisfies the requirements of the nonlinear extension outlined in Step 4."
      ]
    },
    {
      "cell_type": "code",
      "execution_count": 37,
      "metadata": {
        "id": "FerCti9dLdFh"
      },
      "outputs": [],
      "source": [
        "from sklearn.preprocessing import PolynomialFeatures\n",
        "from sklearn.linear_model import LinearRegression, Ridge, Lasso\n",
        "from sklearn.model_selection import train_test_split, KFold, cross_val_score, GridSearchCV"
      ]
    },
    {
      "cell_type": "code",
      "execution_count": 25,
      "metadata": {
        "id": "tV3W38dbLdFh"
      },
      "outputs": [],
      "source": [
        "# Define cross-validation function, which returns RMSE\n",
        "def perform_cross_validation(X, y, degree, n_splits=10):\n",
        "    # Create polynomial features\n",
        "    poly = PolynomialFeatures(degree=degree, include_bias=False)\n",
        "    X_poly = poly.fit_transform(X)\n",
        "\n",
        "    # Initialize linear regression model\n",
        "    linear_model = LinearRegression()\n",
        "\n",
        "    # Use KFold for cross-validation, n_splits set to 10\n",
        "    kf = KFold(n_splits=n_splits, shuffle=True, random_state=42)\n",
        "\n",
        "    # Compute RMSE via cross-validation (use negative MSE and then take the square root)\n",
        "    neg_mse_scores = cross_val_score(linear_model, X_poly, y, cv=kf, scoring='neg_mean_squared_error')\n",
        "\n",
        "    # Convert negative MSE to RMSE\n",
        "    rmse_scores = np.sqrt(-neg_mse_scores)\n",
        "\n",
        "    # Return the mean RMSE\n",
        "    return rmse_scores.mean()"
      ]
    },
    {
      "cell_type": "code",
      "execution_count": 26,
      "metadata": {
        "id": "5Gw0stIeLdFh",
        "outputId": "524a7b34-7a52-4f90-cf48-dcfc2c90015a",
        "colab": {
          "base_uri": "https://localhost:8080/"
        }
      },
      "outputs": [
        {
          "output_type": "stream",
          "name": "stdout",
          "text": [
            "Evaluating degree 2 polynomial: \n",
            "Mean RMSE for degree 2: 0.02963\n",
            "Evaluating degree 3 polynomial: \n",
            "Mean RMSE for degree 3: 0.02762\n",
            "Evaluating degree 4 polynomial: \n",
            "Mean RMSE for degree 4: 0.02725\n"
          ]
        }
      ],
      "source": [
        "# Polynomial degrees to evaluate: 2, 3, and 4\n",
        "degrees = [2, 3, 4]\n",
        "best_degree = None\n",
        "best_rmse = float('inf')\n",
        "\n",
        "# Perform cross-validation for each polynomial degree\n",
        "for degree in degrees:\n",
        "    print(f\"Evaluating degree {degree} polynomial: \")\n",
        "    rmse = perform_cross_validation(features, data[target_column], degree)\n",
        "    print(f\"Mean RMSE for degree {degree}: {rmse:.5f}\")\n",
        "\n",
        "    # Update the best model based on RMSE\n",
        "    if rmse < best_rmse:\n",
        "        best_rmse = rmse\n",
        "        best_degree = degree"
      ]
    },
    {
      "cell_type": "code",
      "source": [
        "print(f\"Best degree is {best_degree} with RMSE: {best_rmse:.5f}\")"
      ],
      "metadata": {
        "colab": {
          "base_uri": "https://localhost:8080/"
        },
        "id": "1bkXLDOKYKjx",
        "outputId": "f66b048a-7a72-4705-bed5-f1503316b1e8"
      },
      "execution_count": 27,
      "outputs": [
        {
          "output_type": "stream",
          "name": "stdout",
          "text": [
            "Best degree is 4 with RMSE: 0.02725\n"
          ]
        }
      ]
    },
    {
      "cell_type": "code",
      "source": [
        "# Generate the best polynomial features\n",
        "poly_best = PolynomialFeatures(degree=best_degree, include_bias=False)\n",
        "X_poly_best = poly_best.fit_transform(features)\n",
        "\n",
        "# Split the data into training and testing sets\n",
        "X_train_poly_best, X_test_poly_best, y_train_poly_best, y_test_poly_best = train_test_split(\n",
        "    X_poly_best, data[target_column], test_size=0.2, random_state=42)\n",
        "\n",
        "# Train the final polynomial model\n",
        "linear_model_best = LinearRegression()\n",
        "linear_model_best.fit(X_train_poly_best, y_train_poly_best)\n",
        "\n",
        "# Make predictions on the test set\n",
        "y_pred_poly_best = linear_model_best.predict(X_test_poly_best)\n",
        "\n",
        "test_rmse_best = np.sqrt(mean_squared_error(y_test_poly_best, y_pred_poly_best))\n",
        "test_mae_best = mean_absolute_error(y_test_poly_best, y_pred_poly_best)\n",
        "test_r2_best = r2_score(y_test_poly_best, y_pred_poly_best)\n",
        "\n",
        "# Evaluation\n",
        "print(f\"Test RMSE for the best degree {best_degree}: {test_rmse_best:.5f}\")\n",
        "print(f\"Test MAE for the best degree {best_degree}: {test_mae_best:.5f}\")\n",
        "print(f\"Test R-squared for the best degree {best_degree}: {test_r2_best:.5f}\")"
      ],
      "metadata": {
        "colab": {
          "base_uri": "https://localhost:8080/"
        },
        "id": "abj5Z8mLYQwh",
        "outputId": "f03a4ad9-db64-40ab-a493-c87ee7141228"
      },
      "execution_count": 28,
      "outputs": [
        {
          "output_type": "stream",
          "name": "stdout",
          "text": [
            "Test RMSE for the best degree 4: 0.02752\n",
            "Test MAE for the best degree 4: 0.02014\n",
            "Test R-squared for the best degree 4: 0.70645\n"
          ]
        }
      ]
    },
    {
      "cell_type": "markdown",
      "metadata": {
        "id": "h6Ruyyq5LdFh"
      },
      "source": [
        "For step 4.2, the method of locally weighted least squares will be used, as tought in the lecture. Different kernels will be compared and the best one will be chosen based on evaluating the performance on the test data."
      ]
    },
    {
      "cell_type": "code",
      "execution_count": 29,
      "metadata": {
        "jupyter": {
          "is_executing": true
        },
        "id": "eN2aFlodLdFh"
      },
      "outputs": [],
      "source": [
        "def gaussian(t):\n",
        "    return np.exp(-0.5 * t**2) / np.sqrt(2 * np.pi)\n",
        "\n",
        "def epanechnikov(t):\n",
        "    res = np.zeros_like(t)\n",
        "    res[np.abs(t) <= 1] = 0.75 * (1 - t[np.abs(t) <= 1]**2)\n",
        "    return res\n",
        "\n",
        "def tricube(t):\n",
        "    res = np.zeros_like(t)\n",
        "    res[np.abs(t) <= 1] = (70 / 81) * (1 - np.abs(t[np.abs(t) <= 1])**3)**3\n",
        "    return res\n",
        "\n",
        "def uniform(t, p=0.2):\n",
        "    return np.zeros_like(t) + p\n",
        "\n",
        "def triangle(t):\n",
        "    res = np.zeros_like(t)\n",
        "    res[np.abs(t) <= 1] = 1 - np.abs(t[np.abs(t) <= 1])\n",
        "    return res"
      ]
    },
    {
      "cell_type": "code",
      "execution_count": 30,
      "metadata": {
        "ExecuteTime": {
          "end_time": "2024-10-07T14:49:54.327727Z",
          "start_time": "2024-10-07T14:49:54.319484Z"
        },
        "id": "WuJsbvuPLdFh"
      },
      "outputs": [],
      "source": [
        "# Locally Weighted Least Squares implementation\n",
        "def lwls_predict(X_train, y_train, X_test, kernel_func, tau=0.1):\n",
        "    y_pred = np.zeros(len(X_test))\n",
        "\n",
        "    for i, x in enumerate(X_test):\n",
        "        distances = np.linalg.norm(X_train - x, axis=1)  # Compute distances\n",
        "        weights = kernel_func(distances / tau)  # Apply kernel function\n",
        "        W = np.diag(weights)  # Create diagonal weight matrix\n",
        "\n",
        "        # Weighted Least Squares computation\n",
        "        XTWX = X_train.T @ W @ X_train  # X^T W X\n",
        "        XTWy = X_train.T @ W @ y_train  # X^T W y\n",
        "\n",
        "        # Use np.linalg.pinv for numerical stability\n",
        "        theta = np.linalg.pinv(XTWX) @ XTWy\n",
        "\n",
        "        # Ensure x is 2D before matrix multiplication\n",
        "        y_pred[i] = np.dot(x, theta)  # Prediction for the current test sample\n",
        "\n",
        "    return y_pred"
      ]
    },
    {
      "cell_type": "code",
      "execution_count": 31,
      "metadata": {
        "id": "fKFs0bFcLdFh"
      },
      "outputs": [],
      "source": [
        "# Function to evaluate different kernels and select the best one\n",
        "def evaluate_kernels(X_train, y_train, X_test, y_test, kernels, tau=0.1):\n",
        "    mse_results = {}\n",
        "\n",
        "    for kernel_name, kernel_func in kernels.items():\n",
        "\n",
        "        y_pred = lwls_predict(X_train, y_train, X_test, kernel_func, tau=tau)\n",
        "        mse = mean_squared_error(y_test, y_pred)\n",
        "        mse_results[kernel_name] = mse\n",
        "\n",
        "    return mse_results\n",
        "\n",
        "# Example kernels (ensure these are defined somewhere in the code)\n",
        "kernels = {\n",
        "    'Gaussian': gaussian,\n",
        "    'Epanechnikov': epanechnikov,\n",
        "    'Tricube': tricube,\n",
        "    'Uniform': uniform,\n",
        "    'Triangle': triangle\n",
        "}"
      ]
    },
    {
      "cell_type": "code",
      "execution_count": 32,
      "metadata": {
        "id": "x_Hu3glbLdFi",
        "outputId": "e412168d-a8ab-4e78-cd98-3e1545420d4d",
        "colab": {
          "base_uri": "https://localhost:8080/"
        }
      },
      "outputs": [
        {
          "output_type": "stream",
          "name": "stdout",
          "text": [
            "{'Gaussian': 0.0020489689607115337, 'Epanechnikov': 0.016212727406269833, 'Tricube': 0.016212727406269833, 'Uniform': 0.0020602182323690285, 'Triangle': 0.016212727406269833}\n",
            "The kernel with the smallest MSE is 'Gaussian' with a value of 0.0020489689607115337\n"
          ]
        }
      ],
      "source": [
        "# Evaluate kernels on smaller data for faster results\n",
        "mse_results_small = evaluate_kernels(X_sample_train_with_bias, y_sample_train, X_forecast_sample_with_bias, y_sample_test, kernels)\n",
        "min_kernel, min_mse = min(mse_results_small.items(), key=lambda x: x[1])\n",
        "\n",
        "# Print the full results and the minimum one\n",
        "print(mse_results_small)\n",
        "print(f\"The kernel with the smallest MSE is '{min_kernel}' with a value of {min_mse}\")"
      ]
    },
    {
      "cell_type": "code",
      "execution_count": 33,
      "metadata": {
        "id": "mw0zLsafLdFi",
        "colab": {
          "base_uri": "https://localhost:8080/"
        },
        "outputId": "3f15b8f1-9cf7-455a-9245-52c9653751db"
      },
      "outputs": [
        {
          "output_type": "stream",
          "name": "stdout",
          "text": [
            "Uniform Kernel Results:\n",
            "Mean Squared Error (MSE): 0.0008207430221008067\n",
            "Mean Absolute Error (MAE): 0.021559426662035277\n",
            "R-squared (R2): 0.6819731852688298\n",
            "Root Mean Squared Error (RMSE): 0.02864861291757084\n"
          ]
        }
      ],
      "source": [
        "# Evaluation on the kernel selected\n",
        "def evaluate_uniform(X_train, y_train, X_test, y_test, uniform, tau=0.1):\n",
        "    for kernel_name, kernel_func in uniform.items():\n",
        "        y_pred = lwls_predict(X_train, y_train, X_test, kernel_func, tau=tau)\n",
        "\n",
        "        mse = mean_squared_error(y_test, y_pred)\n",
        "        mae_wls_uniform = mean_absolute_error(y_test, y_pred)\n",
        "        r2_wls_uniform = r2_score(y_test, y_pred)\n",
        "        rmse_wls_uniform = np.sqrt(mse)\n",
        "\n",
        "        print(f\"{kernel_name} Kernel Results:\")\n",
        "        print(f\"Mean Squared Error (MSE): {mse}\")\n",
        "        print(f\"Mean Absolute Error (MAE): {mae_wls_uniform}\")\n",
        "        print(f\"R-squared (R2): {r2_wls_uniform}\")\n",
        "        print(f\"Root Mean Squared Error (RMSE): {rmse_wls_uniform}\")\n",
        "\n",
        "    return\n",
        "\n",
        "uniform_kernel = {\n",
        "    'Uniform': uniform\n",
        "}\n",
        "\n",
        "evaluate_uniform(X_large_sample_with_bias, y_large_sample, merged_ds_with_bias, y_large_test_sample, uniform_kernel)"
      ]
    },
    {
      "cell_type": "markdown",
      "metadata": {
        "id": "SGsly_fKLdFi"
      },
      "source": [
        "### Step 5 Regularization\n",
        "#### Lasso regularization\n",
        "##### linear regression\n",
        "Ridge and Lasso regression are applied to test if the variance of the dataset can and has to be improved. Applying one of these techniques could make the model more stable and improve the prediction. Different alpha values are tested to see which one results in the best results. Both for Lasso and Ridge the goal is to minimize the mean squared error. To find the optimal alpha values GridSearchCV is used, which applies 5-fold cross-validation."
      ]
    },
    {
      "cell_type": "code",
      "execution_count": 38,
      "metadata": {
        "ExecuteTime": {
          "end_time": "2024-10-09T08:57:34.540820Z",
          "start_time": "2024-10-09T08:57:34.506942Z"
        },
        "id": "ev4Ziez1LdFi",
        "colab": {
          "base_uri": "https://localhost:8080/"
        },
        "outputId": "5ecea5c4-3e98-42d6-b5ac-ef4174d1be1b"
      },
      "outputs": [
        {
          "output_type": "stream",
          "name": "stdout",
          "text": [
            "Optimal alpha for Ridge with the full dataset: 10\n",
            "Optimal alpha for Lasso with the full dataset: 0.0001\n"
          ]
        }
      ],
      "source": [
        "# Create a list with possible alpha values to iterate over\n",
        "alpha_values = {'alpha': [0.0001, 0.01, 0.1, 1, 10, 100]}\n",
        "\n",
        "# Ridge model with cross-validation\n",
        "ridge_model = Ridge()\n",
        "# Apply GridSearchCV to search for the optimal alpha\n",
        "ridge_cv = GridSearchCV(ridge_model, param_grid=alpha_values, cv=5, scoring='neg_mean_squared_error') # cv=5 for 5-fold cross-validation, scoring mean squared error because the goal is to get this as low as possible\n",
        "ridge_cv.fit(merged_ds,y_large_test_sample)\n",
        "\n",
        "# Lasso model with cross-validation\n",
        "lasso_model = Lasso()\n",
        "# Apply GridSearchCV to search for the optimal alpha\n",
        "lasso_cv = GridSearchCV(lasso_model, param_grid=alpha_values, cv=5, scoring='neg_mean_squared_error') # cv=5 for 5-fold cross-validation, scoring mean squared error because the goal is to get this as low as possible\n",
        "lasso_cv.fit(merged_ds,y_large_test_sample)\n",
        "\n",
        "# Get the best alpha values\n",
        "best_alpha_ridge = ridge_cv.best_params_['alpha']\n",
        "best_alpha_lasso = lasso_cv.best_params_['alpha']\n",
        "\n",
        "print(f\"Optimal alpha for Ridge with the full dataset: {best_alpha_ridge}\")\n",
        "print(f\"Optimal alpha for Lasso with the full dataset: {best_alpha_lasso}\")"
      ]
    },
    {
      "cell_type": "code",
      "source": [
        "# Run the lasso model with the optimal alpha\n",
        "lasso_model = Lasso(alpha=best_alpha_lasso)\n",
        "lasso_model.fit(merged_ds,y_large_test_sample)\n",
        "# Predict the power production with Lasso regularization\n",
        "y_pred_lasso = lasso_model.predict(merged_ds)\n",
        "# Show the new coefficients\n",
        "lasso_model.coef_"
      ],
      "metadata": {
        "colab": {
          "base_uri": "https://localhost:8080/"
        },
        "id": "rlhz156Ac_Oe",
        "outputId": "02760195-3975-4498-ffdd-aac8cd9c1d72"
      },
      "execution_count": 40,
      "outputs": [
        {
          "output_type": "execute_result",
          "data": {
            "text/plain": [
              "array([ 0.00060629, -0.04168895,  0.00423294, -0.        ])"
            ]
          },
          "metadata": {},
          "execution_count": 40
        }
      ]
    },
    {
      "cell_type": "code",
      "source": [
        "# Verify the model using the testing dataset and appropriate evaluation metrics\n",
        "mse_lasso = mean_squared_error(y_large_test_sample, y_pred_lasso)\n",
        "mae_lasso= mean_absolute_error(y_large_test_sample, y_pred_lasso)\n",
        "r2_lasso = r2_score(y_large_test_sample, y_pred_lasso)\n",
        "rmse_lasso = np.sqrt(mse_lasso)\n",
        "\n",
        "print(f\"Weighted Least Squares model evaluation on the testing dataset and the ridge regression with a penalty of 0.0001:\")\n",
        "print(f\"Root Mean Squared Error (RMSE): {rmse_lasso:.4f}\")\n",
        "print(f\"Mean Squared Error (MSE): {mse_lasso:.4f}\")\n",
        "print(f\"Mean Absolute Error (MAE): {mae_lasso:.4f}\")\n",
        "print(f\"R-squared: {r2_lasso:.4f}\")"
      ],
      "metadata": {
        "colab": {
          "base_uri": "https://localhost:8080/"
        },
        "id": "S7R9v0NjdBlB",
        "outputId": "14d99d5e-f207-4ea8-a27e-da79ff08c270"
      },
      "execution_count": 41,
      "outputs": [
        {
          "output_type": "stream",
          "name": "stdout",
          "text": [
            "Weighted Least Squares model evaluation on the testing dataset and the ridge regression with a penalty of 0.0001:\n",
            "Root Mean Squared Error (RMSE): 0.0283\n",
            "Mean Squared Error (MSE): 0.0008\n",
            "Mean Absolute Error (MAE): 0.0216\n",
            "R-squared: 0.6892\n"
          ]
        }
      ]
    },
    {
      "cell_type": "code",
      "source": [
        "# Run the ridge model with the optimal alpha\n",
        "ridge_model = Ridge(alpha=best_alpha_ridge)\n",
        "ridge_model.fit(merged_ds,y_large_test_sample)\n",
        "# Predict the power production with Ridge regularization\n",
        "y_pred_ridge = ridge_model.predict(merged_ds)\n",
        "# Show the new coefficients\n",
        "ridge_model.coef_"
      ],
      "metadata": {
        "colab": {
          "base_uri": "https://localhost:8080/"
        },
        "id": "6MmnFPEjdDvt",
        "outputId": "b729b74d-806a-4332-b82c-23ce28dfad92"
      },
      "execution_count": 42,
      "outputs": [
        {
          "output_type": "execute_result",
          "data": {
            "text/plain": [
              "array([ 7.23369914e-04, -4.14540714e-02,  4.45155913e-03,  1.96029340e-05])"
            ]
          },
          "metadata": {},
          "execution_count": 42
        }
      ]
    },
    {
      "cell_type": "code",
      "source": [
        "# Verify the model using the testing dataset and appropriate evaluation metrics\n",
        "mse_ridge = mean_squared_error(y_large_test_sample, y_pred_lasso)\n",
        "mae_ridge= mean_absolute_error(y_large_test_sample, y_pred_lasso)\n",
        "r2_ridge = r2_score(y_large_test_sample, y_pred_lasso)\n",
        "rmse_ridge = np.sqrt(mse_lasso)\n",
        "\n",
        "print(f\"Weighted Least Squares model evaluation on the testing dataset and the ridge regression with a penalty of 1:\")\n",
        "print(f\"Root Mean Squared Error (RMSE): {rmse_ridge:.4f}\")\n",
        "print(f\"Mean Squared Error (MSE): {mse_ridge:.4f}\")\n",
        "print(f\"Mean Absolute Error (MAE): {mae_ridge:.4f}\")\n",
        "print(f\"R-squared: {r2_ridge:.4f}\")"
      ],
      "metadata": {
        "colab": {
          "base_uri": "https://localhost:8080/"
        },
        "id": "FMA6PDBIdIfE",
        "outputId": "fdb412c6-4073-4bf1-ad93-f56b638caaa6"
      },
      "execution_count": 43,
      "outputs": [
        {
          "output_type": "stream",
          "name": "stdout",
          "text": [
            "Weighted Least Squares model evaluation on the testing dataset and the ridge regression with a penalty of 1:\n",
            "Root Mean Squared Error (RMSE): 0.0283\n",
            "Mean Squared Error (MSE): 0.0008\n",
            "Mean Absolute Error (MAE): 0.0216\n",
            "R-squared: 0.6892\n"
          ]
        }
      ]
    },
    {
      "cell_type": "code",
      "source": [
        "# Run the ridge model with the optimal alpha\n",
        "ridge_model = Ridge(alpha=0.0001)\n",
        "ridge_model.fit(merged_ds,y_large_test_sample)\n",
        "# Predict the power production with Ridge regularization\n",
        "y_pred_ridge = ridge_model.predict(merged_ds)\n",
        "# Show the new coefficients\n",
        "ridge_model.coef_"
      ],
      "metadata": {
        "colab": {
          "base_uri": "https://localhost:8080/"
        },
        "id": "ouFCwqrtdJL3",
        "outputId": "2fb66942-b167-479e-b64d-d1c9d3de7fa1"
      },
      "execution_count": 44,
      "outputs": [
        {
          "output_type": "execute_result",
          "data": {
            "text/plain": [
              "array([ 6.88172392e-04, -4.17583542e-02,  4.38925768e-03, -7.68136710e-05])"
            ]
          },
          "metadata": {},
          "execution_count": 44
        }
      ]
    },
    {
      "cell_type": "code",
      "source": [
        "# Verify the model using the testing dataset and appropriate evaluation metrics\n",
        "mse_ridge = mean_squared_error(y_large_test_sample, y_pred_lasso)\n",
        "mae_ridge= mean_absolute_error(y_large_test_sample, y_pred_lasso)\n",
        "r2_ridge = r2_score(y_large_test_sample, y_pred_lasso)\n",
        "rmse_ridge = np.sqrt(mse_lasso)\n",
        "\n",
        "print(f\"Weighted Least Squares model evaluation on the testing dataset and the ridge regression with a penalty of 1:\")\n",
        "print(f\"Root Mean Squared Error (RMSE): {rmse_ridge:.4f}\")\n",
        "print(f\"Mean Squared Error (MSE): {mse_ridge:.4f}\")\n",
        "print(f\"Mean Absolute Error (MAE): {mae_ridge:.4f}\")\n",
        "print(f\"R-squared: {r2_ridge:.4f}\")"
      ],
      "metadata": {
        "colab": {
          "base_uri": "https://localhost:8080/"
        },
        "id": "fFq5QwxwdLyT",
        "outputId": "06a3ae15-9cc9-4196-b2e1-1d9033caacd7"
      },
      "execution_count": 45,
      "outputs": [
        {
          "output_type": "stream",
          "name": "stdout",
          "text": [
            "Weighted Least Squares model evaluation on the testing dataset and the ridge regression with a penalty of 1:\n",
            "Root Mean Squared Error (RMSE): 0.0283\n",
            "Mean Squared Error (MSE): 0.0008\n",
            "Mean Absolute Error (MAE): 0.0216\n",
            "R-squared: 0.6892\n"
          ]
        }
      ]
    },
    {
      "cell_type": "markdown",
      "source": [
        "The optimal penalty term for Lasso regression is 0.0001. This results in validation metric values with almost the same results as normal regression. Moreover, such a small penalty term indicates that it would be better to simply apply normal regression. This makes sense because for this model n>>p. There is a very large amount of data points and only 4 parameters. Consequently, there is already very low variance, before regularization is applied, minimizing the need for additional regularization.\n",
        "\n",
        "Ridge regression shows similar results, with one notable difference. For Ridge regression, it does not matter whether the penalty term is set to 1 or to 0.0001. The validation metrics remain exactly the same. This indicates that the data is inherently regularized; there is already a very low variance and the Ridge regression is not required to improve results."
      ],
      "metadata": {
        "id": "6cd3GlhZdOEC"
      }
    }
  ],
  "metadata": {
    "kernelspec": {
      "display_name": "base",
      "language": "python",
      "name": "python3"
    },
    "language_info": {
      "codemirror_mode": {
        "name": "ipython",
        "version": 3
      },
      "file_extension": ".py",
      "mimetype": "text/x-python",
      "name": "python",
      "nbconvert_exporter": "python",
      "pygments_lexer": "ipython3",
      "version": "3.11.5"
    },
    "colab": {
      "provenance": []
    }
  },
  "nbformat": 4,
  "nbformat_minor": 0
}