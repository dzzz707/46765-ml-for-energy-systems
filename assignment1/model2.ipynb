{
 "cells": [
  {
   "cell_type": "markdown",
   "metadata": {},
   "source": [
    "## Model 2"
   ]
  },
  {
   "cell_type": "code",
   "execution_count": 1,
   "metadata": {},
   "outputs": [],
   "source": [
    "import pandas as pd\n",
    "import numpy as np\n",
    "from sklearn.preprocessing import StandardScaler\n",
    "from scipy.optimize import minimize\n",
    "import os"
   ]
  },
  {
   "cell_type": "markdown",
   "metadata": {},
   "source": [
    "### Step 1 Merge feature data and price data"
   ]
  },
  {
   "cell_type": "code",
   "execution_count": 2,
   "metadata": {},
   "outputs": [],
   "source": [
    "# Paths to the input files\n",
    "feature_file_path = 'Data assignment 1/Feature data.csv'\n",
    "prices_file_path = 'Data assignment 1/prices_merged_df_output.csv'\n",
    "\n",
    "# Read the CSV files into pandas dataframes\n",
    "feature_data_df = pd.read_csv(feature_file_path)\n",
    "prices_data_df = pd.read_csv(prices_file_path)\n",
    "\n",
    "# Feature scaling, same as model 1\n",
    "scaler_standard = StandardScaler()\n",
    "\n",
    "feature_data_df['Mean wind speed'] = scaler_standard.fit_transform(feature_data_df[['Mean wind speed']])\n",
    "feature_data_df['Maximum temperature'] = scaler_standard.fit_transform(feature_data_df[['Maximum temperature']])\n",
    "\n",
    "feature_data_df['Wind direction sin'] = np.sin(np.deg2rad(feature_data_df['Mean wind direction']))\n",
    "feature_data_df['Wind direction cos'] = np.cos(np.deg2rad(feature_data_df['Mean wind direction']))\n",
    "\n",
    "nominal_capacity = 30000\n",
    "feature_data_df['AKI Kalby Active Power'] = feature_data_df['AKI Kalby Active Power'] / nominal_capacity\n",
    "\n",
    "feature_data_df = feature_data_df.drop('Mean wind direction', axis=1)\n",
    "\n",
    "feature_data_df['datetime'] = pd.to_datetime(feature_data_df['datetime'])\n",
    "prices_data_df['HourDK'] = pd.to_datetime(prices_data_df['HourDK'])\n",
    "\n",
    "# Merge the two datasets on their datetime columns, using an inner join to keep only matching rows\n",
    "merged_df = pd.merge(feature_data_df, prices_data_df, left_on='datetime', right_on='HourDK', how='inner')\n",
    "\n",
    "# Drop the redundant 'HourDK' column from the merged dataframe\n",
    "merged_df = merged_df.drop(columns=['HourDK'])\n",
    "\n",
    "# Define the output directory and file name\n",
    "output_dir = 'Data assignment 1'\n",
    "output_path = os.path.join(output_dir, 'Model2data.csv')\n",
    "\n",
    "# Save the merged dataframe to a CSV file\n",
    "merged_df.to_csv(output_path, index=False)\n"
   ]
  },
  {
   "cell_type": "markdown",
   "metadata": {},
   "source": [
    "### Step 2"
   ]
  },
  {
   "cell_type": "markdown",
   "metadata": {},
   "source": [
    "### Classification"
   ]
  },
  {
   "cell_type": "code",
   "execution_count": 3,
   "metadata": {},
   "outputs": [],
   "source": [
    "data = pd.read_csv('Data assignment 1/Model2data.csv')\n",
    "data['datetime'] = pd.to_datetime(data['datetime'])"
   ]
  },
  {
   "cell_type": "code",
   "execution_count": 4,
   "metadata": {},
   "outputs": [],
   "source": [
    "# Step 1: Define the hourly classification rule\n",
    "def classify_action(row):\n",
    "    if row['DA_PriceEUR'] > row['BalancingPriceUpEUR'] and row['DA_PriceEUR'] > row['BalancingPriceDownEUR']:\n",
    "        return 1  # Sell more in day-ahead market\n",
    "    elif row['DA_PriceEUR'] < row['BalancingPriceUpEUR'] or row['DA_PriceEUR'] < row['BalancingPriceDownEUR']:\n",
    "        return 2  # Adjust in balancing market (buy/sell)\n",
    "    else:\n",
    "        return 3  # Balance between markets\n",
    "\n",
    "# Apply the classification rule on an hourly basis\n",
    "data['action_class'] = data.apply(classify_action, axis=1)"
   ]
  },
  {
   "cell_type": "code",
   "execution_count": 5,
   "metadata": {},
   "outputs": [],
   "source": [
    "# Step 2: Define the objective function for hourly optimization (used for class 3)\n",
    "def objective_function(predicted_p, actual_p, da_price, up_price, down_price):\n",
    "    z_down = actual_p - predicted_p\n",
    "    z_up = predicted_p - actual_p\n",
    "    \n",
    "    # Ensure non-negative values for z_down and z_up\n",
    "    z_down = max(0, z_down)\n",
    "    z_up = max(0, z_up)\n",
    "    \n",
    "    # Return negative to turn maximization problem into a minimization for scipy.optimize\n",
    "    return -(da_price * predicted_p + (down_price * z_down - up_price * z_up))"
   ]
  },
  {
   "cell_type": "code",
   "execution_count": 6,
   "metadata": {},
   "outputs": [],
   "source": [
    "# Step 3: Optimization for each hour depending on the action_class\n",
    "def optimize_hourly_energy_production(row, nominal_capacity):\n",
    "    actual_p = float(row['AKI Kalby Active Power'])  # Actual power production\n",
    "    da_price = float(row['DA_PriceEUR'])  # Day-ahead price\n",
    "    up_price = float(row['BalancingPriceUpEUR'])  # Up-regulation price\n",
    "    down_price = float(row['BalancingPriceDownEUR'])  # Down-regulation price\n",
    "    action_class = row['action_class']  # Classification\n",
    "\n",
    "    # For class 1: Maximize day-ahead market (phat = nominal_capacity)\n",
    "    if action_class == 1:\n",
    "        return nominal_capacity\n",
    "    \n",
    "    # For class 2: Minimize production (phat = 0)\n",
    "    elif action_class == 2:\n",
    "        return 0\n",
    "    \n",
    "    # For class 3: Balance between day-ahead and balancing market (optimize phat)\n",
    "    else:\n",
    "        initial_predicted_p = actual_p  # Use actual power as an initial guess\n",
    "\n",
    "        # Constraints: 0 < predicted_p <= nominal_capacity\n",
    "        constraints = [{'type': 'ineq', 'fun': lambda p: p},  # predicted_p >= 0\n",
    "                       {'type': 'ineq', 'fun': lambda p: nominal_capacity - p}]  # predicted_p <= nominal_capacity\n",
    "        \n",
    "        # Run the optimization for class 3\n",
    "        result = minimize(objective_function, initial_predicted_p,\n",
    "                          args=(actual_p, da_price, up_price, down_price),\n",
    "                          constraints=constraints, method='SLSQP')\n",
    "        \n",
    "        # If optimization succeeds, return the optimal predicted_p, else fallback to initial guess\n",
    "        return result.x[0] if result.success else initial_predicted_p\n",
    "    \n",
    "# Apply optimization for each hour\n",
    "data['optimized_predicted_power'] = data.apply(lambda row: optimize_hourly_energy_production(row, nominal_capacity), axis=1)"
   ]
  },
  {
   "cell_type": "code",
   "execution_count": 7,
   "metadata": {},
   "outputs": [],
   "source": [
    "# Step 4: Calculate hourly revenue based on the optimized predicted power\n",
    "def calculate_hourly_revenue(row):\n",
    "    actual_p = row['AKI Kalby Active Power']\n",
    "    predicted_p = row['optimized_predicted_power']\n",
    "    da_price = row['DA_PriceEUR']\n",
    "    up_price = row['BalancingPriceUpEUR']\n",
    "    down_price = row['BalancingPriceDownEUR']\n",
    "    \n",
    "    z_down = max(0, actual_p - predicted_p)\n",
    "    z_up = max(0, predicted_p - actual_p)\n",
    "    \n",
    "    # Revenue is computed based on the objective function\n",
    "    revenue = da_price * predicted_p + (down_price * z_down - up_price * z_up)\n",
    "    return revenue\n",
    "\n",
    "data['hourly_revenue'] = data.apply(calculate_hourly_revenue, axis=1)"
   ]
  },
  {
   "cell_type": "code",
   "execution_count": 8,
   "metadata": {},
   "outputs": [
    {
     "data": {
      "text/plain": [
       "(             datetime  optimized_predicted_power\n",
       " 0 2022-01-01 00:00:00                    30000.0\n",
       " 1 2022-01-01 01:00:00                    30000.0\n",
       " 2 2022-01-01 02:00:00                    30000.0\n",
       " 3 2022-01-01 03:00:00                        0.0\n",
       " 4 2022-01-01 04:00:00                    30000.0,\n",
       "          date  hourly_revenue\n",
       " 0  2022-01-01        0.074067\n",
       " 1  2022-01-02        0.298774\n",
       " 2  2022-01-03       -0.006036\n",
       " 3  2022-01-04       12.240022\n",
       " 4  2022-01-05        0.959337)"
      ]
     },
     "execution_count": 8,
     "metadata": {},
     "output_type": "execute_result"
    }
   ],
   "source": [
    "# Step 5: Aggregate hourly revenue into daily revenue\n",
    "data['date'] = data['datetime'].dt.date  # Extract the date\n",
    "daily_revenue = data.groupby('date')['hourly_revenue'].sum().reset_index()\n",
    "\n",
    "# Output only phat (optimized_predicted_power) for each hour and daily revenue\n",
    "hourly_phat = data[['datetime', 'optimized_predicted_power']]  # phat for each hour\n",
    "\n",
    "# Display the results\n",
    "hourly_phat.head(), daily_revenue.head()\n"
   ]
  },
  {
   "cell_type": "code",
   "execution_count": 9,
   "metadata": {},
   "outputs": [
    {
     "name": "stdout",
     "output_type": "stream",
     "text": [
      "Total Annual Revenue: 1503952.481695869\n"
     ]
    }
   ],
   "source": [
    "# Calculate total annual revenue\n",
    "total_annual_revenue = daily_revenue['hourly_revenue'].sum()\n",
    "\n",
    "# Output total annual revenue\n",
    "print(f\"Total Annual Revenue: {total_annual_revenue}\")"
   ]
  }
 ],
 "metadata": {
  "kernelspec": {
   "display_name": "base",
   "language": "python",
   "name": "python3"
  },
  "language_info": {
   "codemirror_mode": {
    "name": "ipython",
    "version": 3
   },
   "file_extension": ".py",
   "mimetype": "text/x-python",
   "name": "python",
   "nbconvert_exporter": "python",
   "pygments_lexer": "ipython3",
   "version": "3.11.5"
  }
 },
 "nbformat": 4,
 "nbformat_minor": 2
}
