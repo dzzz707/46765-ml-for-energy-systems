{
 "cells": [
  {
   "cell_type": "markdown",
   "metadata": {},
   "source": [
    "## Model 2"
   ]
  },
  {
   "cell_type": "code",
   "execution_count": 1,
   "metadata": {},
   "outputs": [],
   "source": [
    "import pandas as pd\n",
    "import numpy as np\n",
    "from sklearn.preprocessing import StandardScaler\n",
    "import os"
   ]
  },
  {
   "cell_type": "markdown",
   "metadata": {},
   "source": [
    "### Step 1 Merge feature data and price data"
   ]
  },
  {
   "cell_type": "code",
   "execution_count": 2,
   "metadata": {},
   "outputs": [],
   "source": [
    "# Paths to the input files\n",
    "feature_file_path = 'Data assignment 1/Feature data.csv'\n",
    "prices_file_path = 'Data assignment 1/prices_merged_df_output.csv'\n",
    "\n",
    "# Read the CSV files into pandas dataframes\n",
    "feature_data_df = pd.read_csv(feature_file_path)\n",
    "prices_data_df = pd.read_csv(prices_file_path)\n",
    "\n",
    "# Feature scaling, same as model 1\n",
    "scaler_standard = StandardScaler()\n",
    "\n",
    "feature_data_df['Mean wind speed'] = scaler_standard.fit_transform(feature_data_df[['Mean wind speed']])\n",
    "feature_data_df['Maximum temperature'] = scaler_standard.fit_transform(feature_data_df[['Maximum temperature']])\n",
    "\n",
    "feature_data_df['Wind direction sin'] = np.sin(np.deg2rad(feature_data_df['Mean wind direction']))\n",
    "feature_data_df['Wind direction cos'] = np.cos(np.deg2rad(feature_data_df['Mean wind direction']))\n",
    "\n",
    "nominal_capacity = 30000\n",
    "feature_data_df['AKI Kalby Active Power'] = feature_data_df['AKI Kalby Active Power'] / nominal_capacity\n",
    "\n",
    "feature_data_df = feature_data_df.drop('Mean wind direction', axis=1)\n",
    "\n",
    "feature_data_df['datetime'] = pd.to_datetime(feature_data_df['datetime'])\n",
    "prices_data_df['HourDK'] = pd.to_datetime(prices_data_df['HourDK'])\n",
    "\n",
    "# Merge the two datasets on their datetime columns, using an inner join to keep only matching rows\n",
    "merged_df = pd.merge(feature_data_df, prices_data_df, left_on='datetime', right_on='HourDK', how='inner')\n",
    "\n",
    "# Drop the redundant 'HourDK' column from the merged dataframe\n",
    "merged_df = merged_df.drop(columns=['HourDK'])\n",
    "\n",
    "# Define the output directory and file name\n",
    "output_dir = 'Data assignment 1'\n",
    "output_path = os.path.join(output_dir, 'Model2data.csv')\n",
    "\n",
    "# Save the merged dataframe to a CSV file\n",
    "merged_df.to_csv(output_path, index=False)\n"
   ]
  },
  {
   "cell_type": "markdown",
   "metadata": {},
   "source": [
    "### Step 2\n",
    "\n",
    "#### Regression(based on what we get from model1)\n",
    "\n",
    "We just used non-linear regression with 4-degree polynomial and ridge regulazation."
   ]
  },
  {
   "cell_type": "code",
   "execution_count": null,
   "metadata": {},
   "outputs": [],
   "source": []
  }
 ],
 "metadata": {
  "kernelspec": {
   "display_name": "base",
   "language": "python",
   "name": "python3"
  },
  "language_info": {
   "codemirror_mode": {
    "name": "ipython",
    "version": 3
   },
   "file_extension": ".py",
   "mimetype": "text/x-python",
   "name": "python",
   "nbconvert_exporter": "python",
   "pygments_lexer": "ipython3",
   "version": "3.11.5"
  }
 },
 "nbformat": 4,
 "nbformat_minor": 2
}
