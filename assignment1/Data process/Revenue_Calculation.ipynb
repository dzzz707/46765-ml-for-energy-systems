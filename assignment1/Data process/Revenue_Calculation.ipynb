{
 "cells": [
  {
   "cell_type": "code",
   "id": "initial_id",
   "metadata": {
    "collapsed": true,
    "ExecuteTime": {
     "end_time": "2024-10-04T15:52:55.671233Z",
     "start_time": "2024-10-04T15:52:55.616825Z"
    }
   },
   "source": [
    "import pandas as pd\n",
    "import numpy as np\n",
    "\n",
    "prices_df = pd.read_csv('./data/processed/prices_merged_df_output.csv', delimiter=',')\n",
    "\n",
    "balUPVec = np.array(prices_df['BalancingPriceUpEUR'].values)\n",
    "balDOWNVec = np.array(prices_df['BalancingPriceDownEUR'].values)\n",
    "DAVec = np.array(prices_df['DA_PriceEUR'].values)\n",
    "\n",
    "features_df = pd.read_csv('./data/processed/merged_df_output.csv', delimiter=',')\n",
    "\n",
    "\n",
    "actualWindproduction = np.array(features_df[' Total Wind Production Active Power'].values)\n",
    "\n",
    "print(actualWindproduction)\n",
    "\n",
    "\n"
   ],
   "outputs": [
    {
     "name": "stdout",
     "output_type": "stream",
     "text": [
      "[3520.38803673 2820.53997898 3302.27914619 ... 3928.63138103 3481.61078453\n",
      " 3848.66349792]\n"
     ]
    }
   ],
   "execution_count": 11
  },
  {
   "metadata": {},
   "cell_type": "code",
   "outputs": [],
   "execution_count": null,
   "source": "",
   "id": "7b6f6fab7b757782"
  }
 ],
 "metadata": {
  "kernelspec": {
   "display_name": "Python 3",
   "language": "python",
   "name": "python3"
  },
  "language_info": {
   "codemirror_mode": {
    "name": "ipython",
    "version": 2
   },
   "file_extension": ".py",
   "mimetype": "text/x-python",
   "name": "python",
   "nbconvert_exporter": "python",
   "pygments_lexer": "ipython2",
   "version": "2.7.6"
  }
 },
 "nbformat": 4,
 "nbformat_minor": 5
}
