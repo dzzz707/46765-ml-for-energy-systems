{
 "cells": [
  {
   "cell_type": "code",
   "id": "initial_id",
   "metadata": {
    "collapsed": true,
    "ExecuteTime": {
     "end_time": "2024-10-15T14:03:22.654261Z",
     "start_time": "2024-10-15T14:03:22.476455Z"
    }
   },
   "source": [
    "import pandas as pd\n",
    "import numpy as np\n",
    "import gurobipy as gp\n",
    "from gurobipy import GRB\n",
    "\n",
    "prices_df = pd.read_csv('../Data assignment 1/prices_merged_df_output.csv', delimiter=',')\n",
    "\n",
    "balUPVec = np.array(prices_df['BalancingPriceUpEUR'].values)\n",
    "balDOWNVec = np.array(prices_df['BalancingPriceDownEUR'].values)\n",
    "DAVec = np.array(prices_df['DA_PriceEUR'].values)\n",
    "\n",
    "features_df = pd.read_csv('../Data assignment 1/merged_df_output.csv', delimiter=',')\n",
    "\n",
    "\n",
    "actualWindproduction = np.array(features_df[' Total Wind Production Active Power'].values)\n",
    "\n",
    "#2022-06-08 01:00:00,295.754578,168.969971,165.1\n",
    "\n",
    "prices_df[\"HourDK\"] = pd.to_datetime(prices_df[\"HourDK\"])\n",
    "Start_Observation = pd.to_datetime(\"2022-06-08 01:00:00\")\n",
    "End_Observation = pd.to_datetime(\"2022-06-08 02:00:00\")\n",
    "condition = (prices_df[\"HourDK\"]>= Start_Observation) & (prices_df[\"HourDK\"]< End_Observation)\n",
    "\n",
    "prices_df  = prices_df[condition]\n",
    "\n",
    "capacity = 30000.0\n",
    "\n",
    "randomprd = np.random.uniform(0.0, capacity, size=(1, 1))\n",
    "p_t = np.round(randomprd, 2)\n",
    "\n",
    "#p_t = np.array([16500.0])\n",
    "\n",
    "#p_t = np.array([[22929.91751781],[13798.32478529],[ 3159.61283307],[ 2652.97866687],[ 6783.56761362],[11862.40683384],[ 5137.49087812],[27969.98682884],[21640.25680502],[13397.39663406],[13476.69929167],[ 2417.31715015],[26835.84184161],[14850.89123478],[  596.40330431],[26060.28463496],[20556.61807972],[ 9065.0593075 ],[27233.10392548],[ 9400.00567775],[22258.30389085],[  735.02622986],[ 2299.33859652],[19603.72469228]])\n",
    "\n",
    "p_t = np.round(p_t, 2)\n",
    "\n",
    "prices_df['p_t'] = p_t\n",
    "\n",
    "model = gp.Model()\n",
    "# defining decision variable as well as auxiliary variables\n",
    "p_t_b = model.addVar(name=\"p_t_b\", lb=0, ub=capacity, vtype=GRB.INTEGER)\n",
    "z_down = model.addVar(name=\"z_down\", vtype=GRB.CONTINUOUS, lb=0)\n",
    "z_up = model.addVar(name=\"z_up\", vtype=GRB.CONTINUOUS, lb=0)\n",
    "\n",
    "solutions  =list()\n",
    "\n",
    "for index, row in prices_df.iterrows():\n",
    "    \n",
    "    p_t_b = model.addVar(name=\"p_t_b\", lb=0, ub=capacity, vtype=GRB.INTEGER)\n",
    "    z_down = model.addVar(name=\"z_down\", vtype=GRB.CONTINUOUS, lb=0)\n",
    "    z_up = model.addVar(name=\"z_up\", vtype=GRB.CONTINUOUS, lb=0)\n",
    "\n",
    "    #defining the constraints\n",
    "    model.addConstr(-p_t_b <= 0)\n",
    "    model.addConstr(p_t_b <= capacity)\n",
    "    model.addConstr(z_down == row['p_t'] - p_t_b)\n",
    "    model.addConstr(z_up == p_t_b - row['p_t'])\n",
    "    model.addConstr(-z_down <= 0)\n",
    "    model.addConstr(-z_up <= 0)\n",
    "    #Mutual exclusivity\n",
    "    model.addConstr(z_down * z_up ==0)\n",
    "    \n",
    "    model.setObjective(row['DA_PriceEUR']*p_t_b+(row['BalancingPriceDownEUR']*z_down-row['BalancingPriceUpEUR']*z_up), GRB.MAXIMIZE)\n",
    "    \n",
    "    model.optimize()\n",
    "\n",
    "    print(p_t)\n",
    "    if model.status == GRB.OPTIMAL:\n",
    "        print(\"Optimal solution found!\")\n",
    "        print(f\"Objective Value: {model.ObjVal}\")\n",
    "        values = []\n",
    "        for v in model.getVars():\n",
    "            print(f\"{v.varName}: {v.x}\")\n",
    "            values.append({v.varName:v.x})\n",
    "    \n",
    "        solutions.append({row['HourDK']:values})\n",
    "            \n",
    "    elif model.status == GRB.INFEASIBLE:\n",
    "        print(\"Model is infeasible.\")\n",
    "        \n",
    "        \n",
    "    elif model.status == GRB.UNBOUNDED:\n",
    "        print(\"Model is unbounded.\")\n",
    "    else:\n",
    "        print(\"Model status:\", model.status)\n",
    "        \n",
    "    model.remove(model.getConstrs())\n",
    "    model.remove(model.getVars())\n",
    "    \n",
    "\n",
    "print(\"\\nAll Solutions:\")\n",
    "for solution in solutions:\n",
    "    print(solution)"
   ],
   "outputs": [
    {
     "name": "stdout",
     "output_type": "stream",
     "text": [
      "Gurobi Optimizer version 11.0.3 build v11.0.3rc0 (mac64[x86] - Darwin 22.6.0 22G830)\n",
      "\n",
      "CPU model: Intel(R) Core(TM) i5-7360U CPU @ 2.30GHz\n",
      "Thread count: 2 physical cores, 4 logical processors, using up to 4 threads\n",
      "\n",
      "Optimize a model with 6 rows, 6 columns and 8 nonzeros\n",
      "Model fingerprint: 0x6d699962\n",
      "Model has 1 quadratic constraint\n",
      "Variable types: 4 continuous, 2 integer (0 binary)\n",
      "Coefficient statistics:\n",
      "  Matrix range     [1e+00, 1e+00]\n",
      "  QMatrix range    [1e+00, 1e+00]\n",
      "  Objective range  [2e+02, 3e+02]\n",
      "  Bounds range     [3e+04, 3e+04]\n",
      "  RHS range        [7e+03, 3e+04]\n",
      "Presolve removed 4 rows and 3 columns\n",
      "Presolve time: 0.00s\n",
      "\n",
      "Explored 0 nodes (0 simplex iterations) in 0.02 seconds (0.00 work units)\n",
      "Thread count was 1 (of 4 available processors)\n",
      "\n",
      "Solution count 0\n",
      "\n",
      "Model is infeasible or unbounded\n",
      "Best objective -, best bound -, gap -\n",
      "[[7091.15]]\n",
      "Model status: 4\n",
      "\n",
      "All Solutions:\n"
     ]
    }
   ],
   "execution_count": 6
  },
  {
   "cell_type": "code",
   "id": "7b6f6fab7b757782",
   "metadata": {
    "ExecuteTime": {
     "end_time": "2024-10-15T13:56:50.472055Z",
     "start_time": "2024-10-15T13:56:50.452283Z"
    }
   },
   "source": "solutions",
   "outputs": [
    {
     "data": {
      "text/plain": [
       "[]"
      ]
     },
     "execution_count": 3,
     "metadata": {},
     "output_type": "execute_result"
    }
   ],
   "execution_count": 3
  }
 ],
 "metadata": {
  "kernelspec": {
   "display_name": "base",
   "language": "python",
   "name": "python3"
  },
  "language_info": {
   "codemirror_mode": {
    "name": "ipython",
    "version": 3
   },
   "file_extension": ".py",
   "mimetype": "text/x-python",
   "name": "python",
   "nbconvert_exporter": "python",
   "pygments_lexer": "ipython3",
   "version": "3.11.5"
  }
 },
 "nbformat": 4,
 "nbformat_minor": 5
}
