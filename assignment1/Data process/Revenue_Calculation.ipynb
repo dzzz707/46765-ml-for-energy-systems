{
 "cells": [
  {
   "cell_type": "code",
   "id": "initial_id",
   "metadata": {
    "collapsed": true,
    "ExecuteTime": {
     "end_time": "2024-10-15T10:32:31.978375Z",
     "start_time": "2024-10-15T10:32:31.875775Z"
    }
   },
   "source": [
    "import pandas as pd\n",
    "import numpy as np\n",
    "\n",
    "prices_df = pd.read_csv('../Data assignment 1/prices_merged_df_output.csv', delimiter=',')\n",
    "\n",
    "balUPVec = np.array(prices_df['BalancingPriceUpEUR'].values)\n",
    "balDOWNVec = np.array(prices_df['BalancingPriceDownEUR'].values)\n",
    "DAVec = np.array(prices_df['DA_PriceEUR'].values)\n",
    "\n",
    "features_df = pd.read_csv('../Data assignment 1/merged_df_output.csv', delimiter=',')\n",
    "\n",
    "\n",
    "actualWindproduction = np.array(features_df[' Total Wind Production Active Power'].values)\n",
    "\n",
    "\n",
    "prices_df[\"HourDK\"] = pd.to_datetime(prices_df[\"HourDK\"])\n",
    "Start_Observation = pd.to_datetime(\"2022-01-01 00:00:00\")\n",
    "End_Observation = pd.to_datetime(\"2022-01-02 00:00:00\")\n",
    "condition = (prices_df[\"HourDK\"]>= Start_Observation) & (prices_df[\"HourDK\"]< End_Observation)\n",
    "\n",
    "prices_df  = prices_df[condition]\n",
    "\n",
    "#randomprd = np.random.uniform(0.0, 30000.0, size=(24, 1))\n",
    "#randomprd = np.round(randomprd, 2)\n",
    "\n",
    "p_t = np.array([[22929.91751781],[13798.32478529],[ 3159.61283307],[ 2652.97866687],[ 6783.56761362],[11862.40683384],[ 5137.49087812],[27969.98682884],[21640.25680502],[13397.39663406],[13476.69929167],[ 2417.31715015],[26835.84184161],[14850.89123478],[  596.40330431],[26060.28463496],[20556.61807972],[ 9065.0593075 ],[27233.10392548],[ 9400.00567775],[22258.30389085],[  735.02622986],[ 2299.33859652],[19603.72469228]])\n",
    "\n",
    "p_t = np.round(p_t, 2)\n",
    "\n",
    "\n",
    "\n",
    "\n",
    "\n",
    "\n",
    "\n"
   ],
   "outputs": [
    {
     "name": "stdout",
     "output_type": "stream",
     "text": [
      "[[22929.91751781]\n",
      " [13798.32478529]\n",
      " [ 3159.61283307]\n",
      " [ 2652.97866687]\n",
      " [ 6783.56761362]\n",
      " [11862.40683384]\n",
      " [ 5137.49087812]\n",
      " [27969.98682884]\n",
      " [21640.25680502]\n",
      " [13397.39663406]\n",
      " [13476.69929167]\n",
      " [ 2417.31715015]\n",
      " [26835.84184161]\n",
      " [14850.89123478]\n",
      " [  596.40330431]\n",
      " [26060.28463496]\n",
      " [20556.61807972]\n",
      " [ 9065.0593075 ]\n",
      " [27233.10392548]\n",
      " [ 9400.00567775]\n",
      " [22258.30389085]\n",
      " [  735.02622986]\n",
      " [ 2299.33859652]\n",
      " [19603.72469228]]\n"
     ]
    }
   ],
   "execution_count": 13
  },
  {
   "cell_type": "code",
   "execution_count": null,
   "id": "7b6f6fab7b757782",
   "metadata": {},
   "outputs": [],
   "source": []
  }
 ],
 "metadata": {
  "kernelspec": {
   "display_name": "base",
   "language": "python",
   "name": "python3"
  },
  "language_info": {
   "codemirror_mode": {
    "name": "ipython",
    "version": 3
   },
   "file_extension": ".py",
   "mimetype": "text/x-python",
   "name": "python",
   "nbconvert_exporter": "python",
   "pygments_lexer": "ipython3",
   "version": "3.11.5"
  }
 },
 "nbformat": 4,
 "nbformat_minor": 5
}
