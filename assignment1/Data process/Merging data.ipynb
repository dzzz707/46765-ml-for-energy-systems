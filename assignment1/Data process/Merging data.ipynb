{
 "cells": [
  {
   "cell_type": "code",
   "execution_count": 4,
   "id": "initial_id",
   "metadata": {
    "ExecuteTime": {
     "end_time": "2024-10-06T13:40:14.471356Z",
     "start_time": "2024-10-06T13:40:14.439221Z"
    },
    "collapsed": true
   },
   "outputs": [],
   "source": [
    "import numpy as np\n",
    "import pandas as pd\n",
    "import matplotlib.pyplot as plt\n",
    "import seaborn as sns\n",
    "from sklearn.preprocessing import StandardScaler\n",
    "from sklearn.decomposition import PCA\n",
    "from sklearn.ensemble import RandomForestRegressor\n"
   ]
  },
  {
   "cell_type": "code",
   "execution_count": 5,
   "id": "8fde111593fd446b",
   "metadata": {
    "ExecuteTime": {
     "end_time": "2024-10-06T13:40:44.397766Z",
     "start_time": "2024-10-06T13:40:44.309113Z"
    }
   },
   "outputs": [],
   "source": [
    "file_path1 = r\"../Data assignment 1/Windpark data.csv\"\n",
    "file_path2 = r\"../Data assignment 1/Weather data.csv\"\n",
    "\n",
    "# Load the CSV file into a pandas DataFrame\n",
    "Bornholm = pd.read_csv(file_path1)\n",
    "Weather = pd.read_csv(file_path2)"
   ]
  },
  {
   "cell_type": "code",
   "execution_count": 8,
   "id": "1cf4fbdb441efefd",
   "metadata": {
    "ExecuteTime": {
     "end_time": "2024-10-06T13:40:52.062295Z",
     "start_time": "2024-10-06T13:40:52.027820Z"
    }
   },
   "outputs": [],
   "source": [
    "# Merge the Bornholm and Weather dataframes based on the timestamp. To ensure all rows from both dataframes are included, they are merged using 'outer'.\n",
    "merged_df = pd.merge(Bornholm, Weather, on='datetime', how='outer')"
   ]
  },
  {
   "cell_type": "code",
   "execution_count": 10,
   "id": "bf7953eda827904d",
   "metadata": {
    "ExecuteTime": {
     "end_time": "2024-10-06T13:41:00.665338Z",
     "start_time": "2024-10-06T13:41:00.648250Z"
    }
   },
   "outputs": [
    {
     "data": {
      "text/plain": [
       "datetime                             0\n",
       "AKI Kalby Active Power             947\n",
       "Maximum temperature                  0\n",
       "Accumulated percipitation            0\n",
       "Mean wind speed                      0\n",
       "Minimum temperature                  0\n",
       "Mean temperature                     0\n",
       "Mean humidity                        0\n",
       "Mean wind direction                  0\n",
       "Mean intensity global radiation      0\n",
       "dtype: int64"
      ]
     },
     "execution_count": 10,
     "metadata": {},
     "output_type": "execute_result"
    }
   ],
   "source": [
    "# Check if there are any missing values.\n",
    "merged_df.isna().sum()"
   ]
  },
  {
   "cell_type": "markdown",
   "id": "ba831e2e8139c2f4",
   "metadata": {},
   "source": [
    "There are 947 missing values in the power production. These are dropped because there was an issue in recording that resulted in longer stretches of time not having any data. Imputing these gaps with average values or other methods was deemed inappropriate, as it could skew the analysis and lead to inaccurate conclusions. Therefore, to maintain the integrity of the dataset, the decision was made to exclude these entries entirely.\n",
    "\n"
   ]
  },
  {
   "cell_type": "code",
   "execution_count": 11,
   "id": "19534c458fdc01ab",
   "metadata": {
    "ExecuteTime": {
     "end_time": "2024-10-06T13:58:40.052409Z",
     "start_time": "2024-10-06T13:58:40.036752Z"
    }
   },
   "outputs": [],
   "source": [
    "# Drop the missing values\n",
    "merged_df.dropna(inplace=True)"
   ]
  },
  {
   "cell_type": "code",
   "execution_count": 12,
   "id": "e08e1f15f85b649f",
   "metadata": {
    "ExecuteTime": {
     "end_time": "2024-10-06T13:58:42.355020Z",
     "start_time": "2024-10-06T13:58:42.247257Z"
    }
   },
   "outputs": [],
   "source": [
    "merged_df.set_index('datetime', inplace=True)"
   ]
  },
  {
   "cell_type": "markdown",
   "id": "60a72dbeb85f121c",
   "metadata": {},
   "source": []
  },
  {
   "cell_type": "code",
   "execution_count": 13,
   "id": "17b3c8e7238ad3ad",
   "metadata": {
    "ExecuteTime": {
     "end_time": "2024-10-06T13:58:50.057926Z",
     "start_time": "2024-10-06T13:58:49.968220Z"
    }
   },
   "outputs": [
    {
     "data": {
      "text/html": [
       "<div>\n",
       "<style scoped>\n",
       "    .dataframe tbody tr th:only-of-type {\n",
       "        vertical-align: middle;\n",
       "    }\n",
       "\n",
       "    .dataframe tbody tr th {\n",
       "        vertical-align: top;\n",
       "    }\n",
       "\n",
       "    .dataframe thead th {\n",
       "        text-align: right;\n",
       "    }\n",
       "</style>\n",
       "<table border=\"1\" class=\"dataframe\">\n",
       "  <thead>\n",
       "    <tr style=\"text-align: right;\">\n",
       "      <th></th>\n",
       "      <th>AKI Kalby Active Power</th>\n",
       "      <th>Maximum temperature</th>\n",
       "      <th>Accumulated percipitation</th>\n",
       "      <th>Mean wind speed</th>\n",
       "      <th>Minimum temperature</th>\n",
       "      <th>Mean temperature</th>\n",
       "      <th>Mean humidity</th>\n",
       "      <th>Mean wind direction</th>\n",
       "      <th>Mean intensity global radiation</th>\n",
       "    </tr>\n",
       "    <tr>\n",
       "      <th>datetime</th>\n",
       "      <th></th>\n",
       "      <th></th>\n",
       "      <th></th>\n",
       "      <th></th>\n",
       "      <th></th>\n",
       "      <th></th>\n",
       "      <th></th>\n",
       "      <th></th>\n",
       "      <th></th>\n",
       "    </tr>\n",
       "  </thead>\n",
       "  <tbody>\n",
       "    <tr>\n",
       "      <th>2022-01-01 00:00:00</th>\n",
       "      <td>-1893.541825</td>\n",
       "      <td>7.3</td>\n",
       "      <td>0.0</td>\n",
       "      <td>6.9</td>\n",
       "      <td>7.0</td>\n",
       "      <td>7.2</td>\n",
       "      <td>99.0</td>\n",
       "      <td>267.0</td>\n",
       "      <td>0.0</td>\n",
       "    </tr>\n",
       "    <tr>\n",
       "      <th>2022-01-01 01:00:00</th>\n",
       "      <td>-1671.836030</td>\n",
       "      <td>7.3</td>\n",
       "      <td>0.0</td>\n",
       "      <td>5.6</td>\n",
       "      <td>6.6</td>\n",
       "      <td>6.8</td>\n",
       "      <td>99.0</td>\n",
       "      <td>253.0</td>\n",
       "      <td>0.0</td>\n",
       "    </tr>\n",
       "    <tr>\n",
       "      <th>2022-01-01 02:00:00</th>\n",
       "      <td>-2871.720706</td>\n",
       "      <td>7.0</td>\n",
       "      <td>0.0</td>\n",
       "      <td>6.6</td>\n",
       "      <td>6.6</td>\n",
       "      <td>6.8</td>\n",
       "      <td>99.0</td>\n",
       "      <td>264.0</td>\n",
       "      <td>0.0</td>\n",
       "    </tr>\n",
       "    <tr>\n",
       "      <th>2022-01-01 03:00:00</th>\n",
       "      <td>-1911.765229</td>\n",
       "      <td>6.9</td>\n",
       "      <td>0.0</td>\n",
       "      <td>5.9</td>\n",
       "      <td>6.5</td>\n",
       "      <td>6.7</td>\n",
       "      <td>98.0</td>\n",
       "      <td>270.0</td>\n",
       "      <td>0.0</td>\n",
       "    </tr>\n",
       "    <tr>\n",
       "      <th>2022-01-01 04:00:00</th>\n",
       "      <td>-881.754117</td>\n",
       "      <td>7.2</td>\n",
       "      <td>0.0</td>\n",
       "      <td>5.4</td>\n",
       "      <td>6.5</td>\n",
       "      <td>6.8</td>\n",
       "      <td>98.0</td>\n",
       "      <td>288.0</td>\n",
       "      <td>0.0</td>\n",
       "    </tr>\n",
       "    <tr>\n",
       "      <th>...</th>\n",
       "      <td>...</td>\n",
       "      <td>...</td>\n",
       "      <td>...</td>\n",
       "      <td>...</td>\n",
       "      <td>...</td>\n",
       "      <td>...</td>\n",
       "      <td>...</td>\n",
       "      <td>...</td>\n",
       "      <td>...</td>\n",
       "    </tr>\n",
       "    <tr>\n",
       "      <th>2022-12-31 19:00:00</th>\n",
       "      <td>-4459.956834</td>\n",
       "      <td>10.4</td>\n",
       "      <td>0.0</td>\n",
       "      <td>9.8</td>\n",
       "      <td>9.8</td>\n",
       "      <td>10.1</td>\n",
       "      <td>93.0</td>\n",
       "      <td>221.0</td>\n",
       "      <td>0.0</td>\n",
       "    </tr>\n",
       "    <tr>\n",
       "      <th>2022-12-31 20:00:00</th>\n",
       "      <td>-4595.766776</td>\n",
       "      <td>10.6</td>\n",
       "      <td>0.0</td>\n",
       "      <td>8.5</td>\n",
       "      <td>9.9</td>\n",
       "      <td>10.2</td>\n",
       "      <td>94.0</td>\n",
       "      <td>227.0</td>\n",
       "      <td>0.0</td>\n",
       "    </tr>\n",
       "    <tr>\n",
       "      <th>2022-12-31 21:00:00</th>\n",
       "      <td>-3607.702982</td>\n",
       "      <td>10.6</td>\n",
       "      <td>0.3</td>\n",
       "      <td>8.6</td>\n",
       "      <td>9.7</td>\n",
       "      <td>10.1</td>\n",
       "      <td>96.0</td>\n",
       "      <td>223.0</td>\n",
       "      <td>0.0</td>\n",
       "    </tr>\n",
       "    <tr>\n",
       "      <th>2022-12-31 22:00:00</th>\n",
       "      <td>-3100.013804</td>\n",
       "      <td>9.9</td>\n",
       "      <td>0.5</td>\n",
       "      <td>7.9</td>\n",
       "      <td>9.6</td>\n",
       "      <td>9.8</td>\n",
       "      <td>98.0</td>\n",
       "      <td>233.0</td>\n",
       "      <td>0.0</td>\n",
       "    </tr>\n",
       "    <tr>\n",
       "      <th>2022-12-31 23:00:00</th>\n",
       "      <td>-3514.633880</td>\n",
       "      <td>9.9</td>\n",
       "      <td>0.1</td>\n",
       "      <td>6.9</td>\n",
       "      <td>9.2</td>\n",
       "      <td>9.5</td>\n",
       "      <td>98.0</td>\n",
       "      <td>228.0</td>\n",
       "      <td>0.0</td>\n",
       "    </tr>\n",
       "  </tbody>\n",
       "</table>\n",
       "<p>7813 rows × 9 columns</p>\n",
       "</div>"
      ],
      "text/plain": [
       "                     AKI Kalby Active Power  Maximum temperature  \\\n",
       "datetime                                                           \n",
       "2022-01-01 00:00:00            -1893.541825                  7.3   \n",
       "2022-01-01 01:00:00            -1671.836030                  7.3   \n",
       "2022-01-01 02:00:00            -2871.720706                  7.0   \n",
       "2022-01-01 03:00:00            -1911.765229                  6.9   \n",
       "2022-01-01 04:00:00             -881.754117                  7.2   \n",
       "...                                     ...                  ...   \n",
       "2022-12-31 19:00:00            -4459.956834                 10.4   \n",
       "2022-12-31 20:00:00            -4595.766776                 10.6   \n",
       "2022-12-31 21:00:00            -3607.702982                 10.6   \n",
       "2022-12-31 22:00:00            -3100.013804                  9.9   \n",
       "2022-12-31 23:00:00            -3514.633880                  9.9   \n",
       "\n",
       "                     Accumulated percipitation  Mean wind speed  \\\n",
       "datetime                                                          \n",
       "2022-01-01 00:00:00                        0.0              6.9   \n",
       "2022-01-01 01:00:00                        0.0              5.6   \n",
       "2022-01-01 02:00:00                        0.0              6.6   \n",
       "2022-01-01 03:00:00                        0.0              5.9   \n",
       "2022-01-01 04:00:00                        0.0              5.4   \n",
       "...                                        ...              ...   \n",
       "2022-12-31 19:00:00                        0.0              9.8   \n",
       "2022-12-31 20:00:00                        0.0              8.5   \n",
       "2022-12-31 21:00:00                        0.3              8.6   \n",
       "2022-12-31 22:00:00                        0.5              7.9   \n",
       "2022-12-31 23:00:00                        0.1              6.9   \n",
       "\n",
       "                     Minimum temperature  Mean temperature  Mean humidity  \\\n",
       "datetime                                                                    \n",
       "2022-01-01 00:00:00                  7.0               7.2           99.0   \n",
       "2022-01-01 01:00:00                  6.6               6.8           99.0   \n",
       "2022-01-01 02:00:00                  6.6               6.8           99.0   \n",
       "2022-01-01 03:00:00                  6.5               6.7           98.0   \n",
       "2022-01-01 04:00:00                  6.5               6.8           98.0   \n",
       "...                                  ...               ...            ...   \n",
       "2022-12-31 19:00:00                  9.8              10.1           93.0   \n",
       "2022-12-31 20:00:00                  9.9              10.2           94.0   \n",
       "2022-12-31 21:00:00                  9.7              10.1           96.0   \n",
       "2022-12-31 22:00:00                  9.6               9.8           98.0   \n",
       "2022-12-31 23:00:00                  9.2               9.5           98.0   \n",
       "\n",
       "                     Mean wind direction  Mean intensity global radiation  \n",
       "datetime                                                                   \n",
       "2022-01-01 00:00:00                267.0                              0.0  \n",
       "2022-01-01 01:00:00                253.0                              0.0  \n",
       "2022-01-01 02:00:00                264.0                              0.0  \n",
       "2022-01-01 03:00:00                270.0                              0.0  \n",
       "2022-01-01 04:00:00                288.0                              0.0  \n",
       "...                                  ...                              ...  \n",
       "2022-12-31 19:00:00                221.0                              0.0  \n",
       "2022-12-31 20:00:00                227.0                              0.0  \n",
       "2022-12-31 21:00:00                223.0                              0.0  \n",
       "2022-12-31 22:00:00                233.0                              0.0  \n",
       "2022-12-31 23:00:00                228.0                              0.0  \n",
       "\n",
       "[7813 rows x 9 columns]"
      ]
     },
     "execution_count": 13,
     "metadata": {},
     "output_type": "execute_result"
    }
   ],
   "source": [
    "merged_df"
   ]
  },
  {
   "cell_type": "markdown",
   "id": "36e57bd20b6508f8",
   "metadata": {},
   "source": [
    "### Feature selection\n",
    "The feature selection is done based on a combination of variance and correlation. Features that have a relatively significant variance and correlation are selected. "
   ]
  },
  {
   "cell_type": "code",
   "execution_count": 14,
   "id": "cc2c001f59a1a621",
   "metadata": {
    "ExecuteTime": {
     "end_time": "2024-10-06T13:58:54.402848Z",
     "start_time": "2024-10-06T13:58:54.386496Z"
    }
   },
   "outputs": [
    {
     "name": "stdout",
     "output_type": "stream",
     "text": [
      "AKI Kalby Active Power             2.279024e+06\n",
      "Maximum temperature                4.397526e+01\n",
      "Accumulated percipitation          2.109360e-01\n",
      "Mean wind speed                    7.149015e+00\n",
      "Minimum temperature                4.266575e+01\n",
      "Mean temperature                   4.315623e+01\n",
      "Mean humidity                      1.700687e+02\n",
      "Mean wind direction                8.296777e+03\n",
      "Mean intensity global radiation    4.789245e+04\n",
      "dtype: float64\n"
     ]
    }
   ],
   "source": [
    "# Calculate variance of each feature in the dataset\n",
    "variance_per_feature = merged_df.var()\n",
    "\n",
    "# Print variance of each original feature\n",
    "print(variance_per_feature)"
   ]
  },
  {
   "cell_type": "markdown",
   "id": "205c51ec547c4a1b",
   "metadata": {},
   "source": [
    " Some features (like wind direction, radiation intensity, and humidity) have higher variability, indicating they change more frequently or drastically than features like wind speed or temperature. Features with higher variance might be important for predicting the target variable (active power) since they reflect more dynamic environmental conditions. However, low variance does not necessarily mean the feature is unimportant — for instance, wind speed, despite its lower variance, is likely a crucial factor for power generation. This is why as a cross-reference, the correlation between the target variable and the features will be checked. \n",
    " "
   ]
  },
  {
   "cell_type": "code",
   "execution_count": 15,
   "id": "5f473f92bcab5d16",
   "metadata": {
    "ExecuteTime": {
     "end_time": "2024-10-06T13:58:56.183346Z",
     "start_time": "2024-10-06T13:58:56.149576Z"
    }
   },
   "outputs": [
    {
     "name": "stdout",
     "output_type": "stream",
     "text": [
      "AKI Kalby Active Power             1.000000\n",
      "Maximum temperature                0.106181\n",
      "Accumulated percipitation         -0.063650\n",
      "Mean wind speed                   -0.797750\n",
      "Minimum temperature                0.086575\n",
      "Mean temperature                   0.096825\n",
      "Mean humidity                      0.000850\n",
      "Mean wind direction               -0.098898\n",
      "Mean intensity global radiation    0.021909\n",
      "Name: AKI Kalby Active Power, dtype: float64\n"
     ]
    }
   ],
   "source": [
    "# Print the correlation of each variable with the target variable\n",
    "print(merged_df.corr()['AKI Kalby Active Power'])"
   ]
  },
  {
   "cell_type": "code",
   "execution_count": 16,
   "id": "4f2901a2ee539725",
   "metadata": {
    "ExecuteTime": {
     "end_time": "2024-10-06T13:59:02.545087Z",
     "start_time": "2024-10-06T13:59:02.512754Z"
    }
   },
   "outputs": [
    {
     "name": "stdout",
     "output_type": "stream",
     "text": [
      "AKI Kalby Active Power             1.000000\n",
      "Maximum temperature                0.106181\n",
      "Accumulated percipitation         -0.063650\n",
      "Mean wind speed                   -0.797750\n",
      "Minimum temperature                0.086575\n",
      "Mean temperature                   0.096825\n",
      "Mean humidity                      0.000850\n",
      "Mean wind direction               -0.098898\n",
      "Mean intensity global radiation    0.021909\n",
      "dtype: float64\n"
     ]
    }
   ],
   "source": [
    "print(merged_df.corrwith(merged_df['AKI Kalby Active Power']))\n"
   ]
  },
  {
   "cell_type": "code",
   "execution_count": 18,
   "id": "4030659390477b2d",
   "metadata": {
    "ExecuteTime": {
     "end_time": "2024-10-06T13:59:06.880667Z",
     "start_time": "2024-10-06T13:59:06.827879Z"
    }
   },
   "outputs": [
    {
     "data": {
      "text/html": [
       "<div>\n",
       "<style scoped>\n",
       "    .dataframe tbody tr th:only-of-type {\n",
       "        vertical-align: middle;\n",
       "    }\n",
       "\n",
       "    .dataframe tbody tr th {\n",
       "        vertical-align: top;\n",
       "    }\n",
       "\n",
       "    .dataframe thead th {\n",
       "        text-align: right;\n",
       "    }\n",
       "</style>\n",
       "<table border=\"1\" class=\"dataframe\">\n",
       "  <thead>\n",
       "    <tr style=\"text-align: right;\">\n",
       "      <th></th>\n",
       "      <th>AKI Kalby Active Power</th>\n",
       "      <th>Maximum temperature</th>\n",
       "      <th>Accumulated percipitation</th>\n",
       "      <th>Mean wind speed</th>\n",
       "      <th>Minimum temperature</th>\n",
       "      <th>Mean temperature</th>\n",
       "      <th>Mean humidity</th>\n",
       "      <th>Mean wind direction</th>\n",
       "      <th>Mean intensity global radiation</th>\n",
       "    </tr>\n",
       "  </thead>\n",
       "  <tbody>\n",
       "    <tr>\n",
       "      <th>AKI Kalby Active Power</th>\n",
       "      <td>1.000000</td>\n",
       "      <td>0.106181</td>\n",
       "      <td>-0.063650</td>\n",
       "      <td>-0.797750</td>\n",
       "      <td>0.086575</td>\n",
       "      <td>0.096825</td>\n",
       "      <td>0.000850</td>\n",
       "      <td>-0.098898</td>\n",
       "      <td>0.021909</td>\n",
       "    </tr>\n",
       "    <tr>\n",
       "      <th>Maximum temperature</th>\n",
       "      <td>0.106181</td>\n",
       "      <td>1.000000</td>\n",
       "      <td>-0.012325</td>\n",
       "      <td>-0.133873</td>\n",
       "      <td>0.995460</td>\n",
       "      <td>0.998759</td>\n",
       "      <td>-0.142340</td>\n",
       "      <td>-0.056822</td>\n",
       "      <td>0.434400</td>\n",
       "    </tr>\n",
       "    <tr>\n",
       "      <th>Accumulated percipitation</th>\n",
       "      <td>-0.063650</td>\n",
       "      <td>-0.012325</td>\n",
       "      <td>1.000000</td>\n",
       "      <td>0.046444</td>\n",
       "      <td>-0.014190</td>\n",
       "      <td>-0.013943</td>\n",
       "      <td>0.142550</td>\n",
       "      <td>0.017684</td>\n",
       "      <td>-0.082194</td>\n",
       "    </tr>\n",
       "    <tr>\n",
       "      <th>Mean wind speed</th>\n",
       "      <td>-0.797750</td>\n",
       "      <td>-0.133873</td>\n",
       "      <td>0.046444</td>\n",
       "      <td>1.000000</td>\n",
       "      <td>-0.109032</td>\n",
       "      <td>-0.121967</td>\n",
       "      <td>-0.155046</td>\n",
       "      <td>0.046511</td>\n",
       "      <td>0.115031</td>\n",
       "    </tr>\n",
       "    <tr>\n",
       "      <th>Minimum temperature</th>\n",
       "      <td>0.086575</td>\n",
       "      <td>0.995460</td>\n",
       "      <td>-0.014190</td>\n",
       "      <td>-0.109032</td>\n",
       "      <td>1.000000</td>\n",
       "      <td>0.998666</td>\n",
       "      <td>-0.130183</td>\n",
       "      <td>-0.068933</td>\n",
       "      <td>0.417069</td>\n",
       "    </tr>\n",
       "    <tr>\n",
       "      <th>Mean temperature</th>\n",
       "      <td>0.096825</td>\n",
       "      <td>0.998759</td>\n",
       "      <td>-0.013943</td>\n",
       "      <td>-0.121967</td>\n",
       "      <td>0.998666</td>\n",
       "      <td>1.000000</td>\n",
       "      <td>-0.136840</td>\n",
       "      <td>-0.062243</td>\n",
       "      <td>0.425965</td>\n",
       "    </tr>\n",
       "    <tr>\n",
       "      <th>Mean humidity</th>\n",
       "      <td>0.000850</td>\n",
       "      <td>-0.142340</td>\n",
       "      <td>0.142550</td>\n",
       "      <td>-0.155046</td>\n",
       "      <td>-0.130183</td>\n",
       "      <td>-0.136840</td>\n",
       "      <td>1.000000</td>\n",
       "      <td>0.131818</td>\n",
       "      <td>-0.576348</td>\n",
       "    </tr>\n",
       "    <tr>\n",
       "      <th>Mean wind direction</th>\n",
       "      <td>-0.098898</td>\n",
       "      <td>-0.056822</td>\n",
       "      <td>0.017684</td>\n",
       "      <td>0.046511</td>\n",
       "      <td>-0.068933</td>\n",
       "      <td>-0.062243</td>\n",
       "      <td>0.131818</td>\n",
       "      <td>1.000000</td>\n",
       "      <td>-0.116282</td>\n",
       "    </tr>\n",
       "    <tr>\n",
       "      <th>Mean intensity global radiation</th>\n",
       "      <td>0.021909</td>\n",
       "      <td>0.434400</td>\n",
       "      <td>-0.082194</td>\n",
       "      <td>0.115031</td>\n",
       "      <td>0.417069</td>\n",
       "      <td>0.425965</td>\n",
       "      <td>-0.576348</td>\n",
       "      <td>-0.116282</td>\n",
       "      <td>1.000000</td>\n",
       "    </tr>\n",
       "  </tbody>\n",
       "</table>\n",
       "</div>"
      ],
      "text/plain": [
       "                                 AKI Kalby Active Power  Maximum temperature  \\\n",
       "AKI Kalby Active Power                         1.000000             0.106181   \n",
       "Maximum temperature                            0.106181             1.000000   \n",
       "Accumulated percipitation                     -0.063650            -0.012325   \n",
       "Mean wind speed                               -0.797750            -0.133873   \n",
       "Minimum temperature                            0.086575             0.995460   \n",
       "Mean temperature                               0.096825             0.998759   \n",
       "Mean humidity                                  0.000850            -0.142340   \n",
       "Mean wind direction                           -0.098898            -0.056822   \n",
       "Mean intensity global radiation                0.021909             0.434400   \n",
       "\n",
       "                                 Accumulated percipitation  Mean wind speed  \\\n",
       "AKI Kalby Active Power                           -0.063650        -0.797750   \n",
       "Maximum temperature                              -0.012325        -0.133873   \n",
       "Accumulated percipitation                         1.000000         0.046444   \n",
       "Mean wind speed                                   0.046444         1.000000   \n",
       "Minimum temperature                              -0.014190        -0.109032   \n",
       "Mean temperature                                 -0.013943        -0.121967   \n",
       "Mean humidity                                     0.142550        -0.155046   \n",
       "Mean wind direction                               0.017684         0.046511   \n",
       "Mean intensity global radiation                  -0.082194         0.115031   \n",
       "\n",
       "                                 Minimum temperature  Mean temperature  \\\n",
       "AKI Kalby Active Power                      0.086575          0.096825   \n",
       "Maximum temperature                         0.995460          0.998759   \n",
       "Accumulated percipitation                  -0.014190         -0.013943   \n",
       "Mean wind speed                            -0.109032         -0.121967   \n",
       "Minimum temperature                         1.000000          0.998666   \n",
       "Mean temperature                            0.998666          1.000000   \n",
       "Mean humidity                              -0.130183         -0.136840   \n",
       "Mean wind direction                        -0.068933         -0.062243   \n",
       "Mean intensity global radiation             0.417069          0.425965   \n",
       "\n",
       "                                 Mean humidity  Mean wind direction  \\\n",
       "AKI Kalby Active Power                0.000850            -0.098898   \n",
       "Maximum temperature                  -0.142340            -0.056822   \n",
       "Accumulated percipitation             0.142550             0.017684   \n",
       "Mean wind speed                      -0.155046             0.046511   \n",
       "Minimum temperature                  -0.130183            -0.068933   \n",
       "Mean temperature                     -0.136840            -0.062243   \n",
       "Mean humidity                         1.000000             0.131818   \n",
       "Mean wind direction                   0.131818             1.000000   \n",
       "Mean intensity global radiation      -0.576348            -0.116282   \n",
       "\n",
       "                                 Mean intensity global radiation  \n",
       "AKI Kalby Active Power                                  0.021909  \n",
       "Maximum temperature                                     0.434400  \n",
       "Accumulated percipitation                              -0.082194  \n",
       "Mean wind speed                                         0.115031  \n",
       "Minimum temperature                                     0.417069  \n",
       "Mean temperature                                        0.425965  \n",
       "Mean humidity                                          -0.576348  \n",
       "Mean wind direction                                    -0.116282  \n",
       "Mean intensity global radiation                         1.000000  "
      ]
     },
     "execution_count": 18,
     "metadata": {},
     "output_type": "execute_result"
    }
   ],
   "source": [
    "# Check the correlation between all variables\n",
    "merged_df.corr()"
   ]
  },
  {
   "cell_type": "markdown",
   "id": "c9427e0e94b7c078",
   "metadata": {},
   "source": [
    "With a correlation of -0.6, mean wind spead has a strong negative correlation with power production. This indicates that wind speed has a strong influence on power production, and it is likely a crucial feature.\n",
    "The temperature features may not contribute significantly to your prediction model, but can have secondary effects on power production (e.g., affecting air density or turbine efficiency). For completeness and because it is the variable with the third-highest correlation we decided to keep maximum temperature but treat them with lower priority.\n",
    " Despite the high variance, the low correlation with power production suggests that wind direction doesn't strongly impact power output. However, it still has the second-highest correlation of the features, which is why we decide to take it into account anyway. "
   ]
  },
  {
   "cell_type": "code",
   "execution_count": 19,
   "id": "c23f066acfa7c706",
   "metadata": {
    "ExecuteTime": {
     "end_time": "2024-10-06T13:59:07.672802Z",
     "start_time": "2024-10-06T13:59:07.653571Z"
    }
   },
   "outputs": [],
   "source": [
    "# Create a dataframe with only the selected features\n",
    "feature_df=merged_df[['AKI Kalby Active Power', 'Maximum temperature', 'Mean wind direction', 'Mean wind speed']]"
   ]
  },
  {
   "cell_type": "code",
   "execution_count": 21,
   "id": "d7cd48e242951cf5",
   "metadata": {
    "ExecuteTime": {
     "end_time": "2024-10-06T13:59:09.071753Z",
     "start_time": "2024-10-06T13:59:08.946193Z"
    }
   },
   "outputs": [],
   "source": [
    "# Set output path\n",
    "output_path = r\"../Data assignment 1/Feature data.csv\"\n",
    "# Save the DataFrame as a CSV file\n",
    "feature_df.to_csv(output_path, index=True)   "
   ]
  }
 ],
 "metadata": {
  "kernelspec": {
   "display_name": "base",
   "language": "python",
   "name": "python3"
  },
  "language_info": {
   "codemirror_mode": {
    "name": "ipython",
    "version": 3
   },
   "file_extension": ".py",
   "mimetype": "text/x-python",
   "name": "python",
   "nbconvert_exporter": "python",
   "pygments_lexer": "ipython3",
   "version": "3.11.5"
  }
 },
 "nbformat": 4,
 "nbformat_minor": 5
}
