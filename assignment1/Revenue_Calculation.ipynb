{
 "cells": [
  {
   "cell_type": "code",
   "id": "initial_id",
   "metadata": {
    "collapsed": true,
    "ExecuteTime": {
     "end_time": "2024-10-16T17:24:34.178296Z",
     "start_time": "2024-10-16T17:24:34.081080Z"
    }
   },
   "source": [
    "# Prices are in €/MWh while production figures are in kWh it is not handled yet\n",
    "\n",
    "import pandas as pd\n",
    "import numpy as np\n",
    "import gurobipy as gp\n",
    "from gurobipy import GRB\n",
    "\n",
    "prices_df = pd.read_csv('../Data assignment 1/prices_merged_df_output.csv', delimiter=',')\n",
    "\n",
    "features_df = pd.read_csv('../Data assignment 1/Feature data.csv', delimiter=',')\n",
    "\n",
    "\n",
    "features_df['AKI Kalby Active Power'] = -1 * features_df['AKI Kalby Active Power']\n",
    "\n",
    "#2022-06-08 01:00:00,295.754578,168.969971,165.1\n",
    "data = prices_df\n",
    "data['actProd'] = features_df['AKI Kalby Active Power']\n",
    "data[\"HourDK\"] = pd.to_datetime(data[\"HourDK\"])\n",
    "Start_Observation = pd.to_datetime(\"2022-01-01 00:00:00\")\n",
    "End_Observation = pd.to_datetime(\"2022-01-01 01:00:00\")\n",
    "condition = (data[\"HourDK\"]>= Start_Observation) & (data[\"HourDK\"]< End_Observation)\n",
    "\n",
    "data  = data[condition]\n",
    "\n",
    "capacity = 30000.0\n",
    "\n",
    "p_t = np.random.uniform(0.0, capacity, size=(1, 1))\n",
    "p_t = np.round(p_t, 2)\n",
    "data['modProd'] = p_t\n",
    "\n",
    "print(data)\n",
    "solutions  = list()\n",
    "for index,row in data.iterrows():\n",
    "    \n",
    "        dailyRev = row['DA_PriceEUR'] * row['modProd']\n",
    "        \n",
    "        if row['modProd'] > row['actProd']:\n",
    "            dailyRev = dailyRev - row['BalancingPriceUpEUR'] * (row['modProd']-row['actProd'])\n",
    "        elif row['actProd'] > row['modProd']:\n",
    "            dailyRev = dailyRev + row['BalancingPriceDownEUR'] * (row['actProd']-row['modProd'])\n",
    "            \n",
    "        solutions.append({row['HourDK']:dailyRev})\n",
    "\n",
    "\n",
    "\n",
    "\n",
    "\n",
    "\n",
    "# p_t_hat as decision variable\n",
    "def OptimizationProblemEnergybid():\n",
    "    model = gp.Model()\n",
    "    solutions  = list()\n",
    "    \n",
    "    for index, row in prices_df.iterrows():\n",
    "        \n",
    "        p_t_hat = model.addVar(name=\"p_t_hat\", lb=0, ub=capacity, vtype=GRB.INTEGER)\n",
    "        z_down = model.addVar(name=\"z_down\", vtype=GRB.CONTINUOUS, lb=0)\n",
    "        z_up = model.addVar(name=\"z_up\", vtype=GRB.CONTINUOUS, lb=0)\n",
    "        \n",
    "        condition_down = model.addVar(name=\"condition_down\", vtype=GRB.BINARY)\n",
    "        condition_up = model.addVar(name=\"condition_up\", vtype=GRB.BINARY)\n",
    "        \n",
    "        model.addConstr(z_up <= (p_t_hat - row['p_t']) * condition_up)\n",
    "        model.addConstr(z_up >= (p_t_hat - row['p_t']) * condition_up)\n",
    "        model.addConstr(z_down <= (row['p_t'] - p_t_hat) * condition_down)\n",
    "        model.addConstr(z_down >= (row['p_t'] - p_t_hat) * condition_down)\n",
    "        model.addConstr(condition_up + condition_down == 1)\n",
    "        \n",
    "    \n",
    "        #defining the constraints\n",
    "        model.addConstr(-p_t_hat <= 0)\n",
    "        model.addConstr(p_t_hat <= capacity)\n",
    "        model.addConstr(-z_down <= 0)\n",
    "        model.addConstr(-z_up <= 0)\n",
    "        \n",
    "        model.setObjective((row['DA_PriceEUR']*p_t_hat)+(row['BalancingPriceDownEUR']*z_down-row['BalancingPriceUpEUR']*z_up), GRB.MAXIMIZE)\n",
    "        \n",
    "        model.optimize()\n",
    "    \n",
    "        if model.status == GRB.OPTIMAL:\n",
    "            print(\"Optimal solution found!\")\n",
    "            print(f\"Objective Value: {model.ObjVal}\")\n",
    "            values = []\n",
    "            values.append({ \"Day-Ahead-Price\": row['DA_PriceEUR'],\n",
    "                            \"BalancingPriceUp\":row['BalancingPriceUpEUR'],\n",
    "                            \"BalancingPriceDown\":row['BalancingPriceDownEUR'],\n",
    "                            \"p_t\":row['p_t'],\n",
    "                            \"Revenue\":model.ObjVal})\n",
    "            for v in model.getVars():\n",
    "                print(f\"{v.varName}: {v.x}\")\n",
    "                values.append({v.varName:v.x})\n",
    "        \n",
    "            \n",
    "            solutions.append({row['HourDK']:values})\n",
    "                \n",
    "        elif model.status == GRB.INFEASIBLE:\n",
    "            print(\"Model is infeasible.\")\n",
    "            model.computeIIS()\n",
    "            model.write(\"infeasible.ilp\")  # Write IIS to a file for review\n",
    "            for c in model.getConstrs():\n",
    "                if c.IISConstr:\n",
    "                    print(f\"Infeasible constraint: {c.constrName}\")\n",
    "            \n",
    "            \n",
    "        elif model.status == GRB.UNBOUNDED:\n",
    "            print(\"Model is unbounded.\")\n",
    "        else:\n",
    "            print(\"Model status:\", model.status)\n",
    "            \n",
    "        model.remove(model.getConstrs())\n",
    "        model.remove(model.getVars())\n",
    "        \n",
    "        \n",
    "def QualityAssesmentModellEnergyRevenue(Start_Observation, End_Observation, data):\n",
    "    pass"
   ],
   "outputs": [
    {
     "name": "stdout",
     "output_type": "stream",
     "text": [
      "      HourDK  BalancingPriceUpEUR  BalancingPriceDownEUR  DA_PriceEUR  \\\n",
      "0 2022-01-01             46.59988               46.59988         46.6   \n",
      "\n",
      "       actProd  modProd  \n",
      "0  1893.541825  8237.53  \n"
     ]
    },
    {
     "name": "stderr",
     "output_type": "stream",
     "text": [
      "/var/folders/5y/2d5f2m356xd_kxc8krzn20q40000gn/T/ipykernel_11508/3584404752.py:29: SettingWithCopyWarning: \n",
      "A value is trying to be set on a copy of a slice from a DataFrame.\n",
      "Try using .loc[row_indexer,col_indexer] = value instead\n",
      "\n",
      "See the caveats in the documentation: https://pandas.pydata.org/pandas-docs/stable/user_guide/indexing.html#returning-a-view-versus-a-copy\n",
      "  data['modProd'] = p_t\n"
     ]
    }
   ],
   "execution_count": 42
  },
  {
   "cell_type": "code",
   "id": "7b6f6fab7b757782",
   "metadata": {
    "ExecuteTime": {
     "end_time": "2024-10-16T17:25:40.188569Z",
     "start_time": "2024-10-16T17:25:40.177967Z"
    }
   },
   "source": "solutions",
   "outputs": [
    {
     "data": {
      "text/plain": [
       "[{Timestamp('2022-01-01 00:00:00'): 88239.81032329769}]"
      ]
     },
     "execution_count": 43,
     "metadata": {},
     "output_type": "execute_result"
    }
   ],
   "execution_count": 43
  }
 ],
 "metadata": {
  "kernelspec": {
   "display_name": "base",
   "language": "python",
   "name": "python3"
  },
  "language_info": {
   "codemirror_mode": {
    "name": "ipython",
    "version": 3
   },
   "file_extension": ".py",
   "mimetype": "text/x-python",
   "name": "python",
   "nbconvert_exporter": "python",
   "pygments_lexer": "ipython3",
   "version": "3.11.5"
  }
 },
 "nbformat": 4,
 "nbformat_minor": 5
}
